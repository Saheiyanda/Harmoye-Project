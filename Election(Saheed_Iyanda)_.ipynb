{
  "cells": [
    {
      "cell_type": "markdown",
      "metadata": {
        "id": "view-in-github",
        "colab_type": "text"
      },
      "source": [
        "<a href=\"https://colab.research.google.com/github/Saheiyanda/Harmoye-Project/blob/main/Election(Saheed_Iyanda)_.ipynb\" target=\"_parent\"><img src=\"https://colab.research.google.com/assets/colab-badge.svg\" alt=\"Open In Colab\"/></a>"
      ]
    },
    {
      "cell_type": "code",
      "source": [
        "# Import libraries\n",
        "import pandas as pd\n",
        "import numpy as np\n",
        "import matplotlib.pyplot as plt\n",
        "from sklearn.model_selection import train_test_split\n",
        "from google.colab import files\n",
        "import seaborn as sns\n",
        "import lightgbm as lgb\n",
        "from tqdm import tqdm\n",
        "from tqdm import tqdm_notebook\n",
        "from sklearn.model_selection import KFold, cross_val_score\n",
        "from sklearn.ensemble import RandomForestRegressor, GradientBoostingRegressor, AdaBoostRegressor\n",
        "from sklearn.tree import DecisionTreeRegressor\n",
        "from sklearn.svm import SVR\n",
        "from sklearn.neighbors import KNeighborsRegressor\n",
        "from xgboost import XGBRegressor\n",
        "from sklearn.linear_model import LinearRegression\n",
        "from sklearn.metrics import mean_squared_error\n",
        "from sklearn.preprocessing import MinMaxScaler\n",
        "import warnings\n",
        "warnings.filterwarnings('ignore')\n",
        "from sklearn.model_selection import GridSearchCV, KFold, cross_val_score\n",
        "from sklearn.preprocessing import LabelEncoder\n",
        "from sklearn.metrics import mean_squared_error\n",
        "from sklearn.model_selection import KFold, train_test_split\n",
        "from sklearn.linear_model import LinearRegression, Lasso, Ridge, ElasticNet\n",
        "import seaborn as sns\n",
        "import warnings\n",
        "warnings.filterwarnings('ignore')\n",
        "from math import sqrt \n",
        "import lightgbm as lgb\n",
        "from sklearn.metrics import mean_squared_error \n",
        "import gc\n",
        "plt.style.use(\"ggplot\")\n",
        "plt.rcParams['figure.figsize'] = (15,12)\n",
        "#import featuretools as ft\n",
        "%matplotlib inline"
      ],
      "metadata": {
        "id": "UCx4n3JjLucj"
      },
      "execution_count": 1,
      "outputs": []
    },
    {
      "cell_type": "code",
      "execution_count": 2,
      "metadata": {
        "id": "RIT-wLxxs3IP",
        "colab": {
          "base_uri": "https://localhost:8080/"
        },
        "outputId": "127f832f-0e34-4296-e72f-58838ae75dab"
      },
      "outputs": [
        {
          "output_type": "stream",
          "name": "stdout",
          "text": [
            "Drive already mounted at /content/drive; to attempt to forcibly remount, call drive.mount(\"/content/drive\", force_remount=True).\n"
          ]
        }
      ],
      "source": [
        "from google.colab import drive\n",
        "drive.mount('/content/drive')\n"
      ]
    },
    {
      "cell_type": "code",
      "execution_count": 3,
      "metadata": {
        "id": "4RdziYv_b0P4"
      },
      "outputs": [],
      "source": [
        "import pandas as pd\n",
        "import numpy as np"
      ]
    },
    {
      "cell_type": "code",
      "execution_count": 4,
      "metadata": {
        "id": "5mZ6PdiGbeVU"
      },
      "outputs": [],
      "source": [
        "df=pd.read_csv('/content/drive/MyDrive/county_statistics.csv')\n",
        "trump_clinton_df=pd.read_csv(\"/content/drive/MyDrive/trump_clinton_polls.csv\")\n",
        "trump_biden_df = pd.read_csv(\"/content/drive/MyDrive/trump_biden_polls.csv\")\n",
        "#trump_biden_df.head()"
      ]
    },
    {
      "cell_type": "code",
      "execution_count": 5,
      "metadata": {
        "id": "Aao_CokOJLUj"
      },
      "outputs": [],
      "source": [
        "#trump_biden_df.isnull().sum()"
      ]
    },
    {
      "cell_type": "code",
      "execution_count": 6,
      "metadata": {
        "id": "NVejnYQvJhDX",
        "colab": {
          "base_uri": "https://localhost:8080/"
        },
        "outputId": "5620200f-16b7-4f5b-e441-be69081df5e0"
      },
      "outputs": [
        {
          "output_type": "execute_result",
          "data": {
            "text/plain": [
              "(16438, 38)"
            ]
          },
          "metadata": {},
          "execution_count": 6
        }
      ],
      "source": [
        "trump_biden_df.shape"
      ]
    },
    {
      "cell_type": "code",
      "execution_count": 7,
      "metadata": {
        "id": "XiRm80XZb_Wy",
        "colab": {
          "base_uri": "https://localhost:8080/",
          "height": 317
        },
        "outputId": "87e23d83-5275-4265-b9cb-7c0a07071f68"
      },
      "outputs": [
        {
          "output_type": "execute_result",
          "data": {
            "text/plain": [
              "   Unnamed: 0     county state  percentage16_Donald_Trump  \\\n",
              "0           0  Abbeville    SC                      0.629   \n",
              "1           1     Acadia    LA                      0.773   \n",
              "2           2   Accomack    VA                      0.545   \n",
              "3           3        Ada    ID                      0.479   \n",
              "4           4      Adair    IA                      0.653   \n",
              "\n",
              "   percentage16_Hillary_Clinton  total_votes16  votes16_Donald_Trump  \\\n",
              "0                         0.346        10724.0                6742.0   \n",
              "1                         0.206        27386.0               21159.0   \n",
              "2                         0.428        15755.0                8582.0   \n",
              "3                         0.387       195587.0               93748.0   \n",
              "4                         0.300         3759.0                2456.0   \n",
              "\n",
              "   votes16_Hillary_Clinton  percentage20_Donald_Trump  percentage20_Joe_Biden  \\\n",
              "0                   3712.0                      0.661                   0.330   \n",
              "1                   5638.0                      0.795                   0.191   \n",
              "2                   6737.0                      0.542                   0.447   \n",
              "3                  75676.0                      0.504                   0.465   \n",
              "4                   1127.0                      0.697                   0.286   \n",
              "\n",
              "   ...  Walk  OtherTransp  WorkAtHome  MeanCommute  Employed  PrivateWork  \\\n",
              "0  ...   1.8          1.8         6.5         25.8    9505.0         78.8   \n",
              "1  ...   1.6          2.2         2.5         27.6   24982.0         80.0   \n",
              "2  ...   2.6          1.8         4.5         22.0   13837.0         74.6   \n",
              "3  ...   1.5          2.8         6.9         20.4  214984.0         78.3   \n",
              "4  ...   2.8          0.4         6.2         22.3    3680.0         73.8   \n",
              "\n",
              "   PublicWork  SelfEmployed  FamilyWork  Unemployment  \n",
              "0        13.3           7.8         0.1           9.4  \n",
              "1        12.1           7.6         0.3           8.9  \n",
              "2        18.1           7.1         0.2           5.4  \n",
              "3        15.0           6.6         0.1           4.3  \n",
              "4        15.3          10.4         0.5           3.0  \n",
              "\n",
              "[5 rows x 51 columns]"
            ],
            "text/html": [
              "\n",
              "  <div id=\"df-2c2b06fa-0439-4419-a057-964c5e8226d9\">\n",
              "    <div class=\"colab-df-container\">\n",
              "      <div>\n",
              "<style scoped>\n",
              "    .dataframe tbody tr th:only-of-type {\n",
              "        vertical-align: middle;\n",
              "    }\n",
              "\n",
              "    .dataframe tbody tr th {\n",
              "        vertical-align: top;\n",
              "    }\n",
              "\n",
              "    .dataframe thead th {\n",
              "        text-align: right;\n",
              "    }\n",
              "</style>\n",
              "<table border=\"1\" class=\"dataframe\">\n",
              "  <thead>\n",
              "    <tr style=\"text-align: right;\">\n",
              "      <th></th>\n",
              "      <th>Unnamed: 0</th>\n",
              "      <th>county</th>\n",
              "      <th>state</th>\n",
              "      <th>percentage16_Donald_Trump</th>\n",
              "      <th>percentage16_Hillary_Clinton</th>\n",
              "      <th>total_votes16</th>\n",
              "      <th>votes16_Donald_Trump</th>\n",
              "      <th>votes16_Hillary_Clinton</th>\n",
              "      <th>percentage20_Donald_Trump</th>\n",
              "      <th>percentage20_Joe_Biden</th>\n",
              "      <th>...</th>\n",
              "      <th>Walk</th>\n",
              "      <th>OtherTransp</th>\n",
              "      <th>WorkAtHome</th>\n",
              "      <th>MeanCommute</th>\n",
              "      <th>Employed</th>\n",
              "      <th>PrivateWork</th>\n",
              "      <th>PublicWork</th>\n",
              "      <th>SelfEmployed</th>\n",
              "      <th>FamilyWork</th>\n",
              "      <th>Unemployment</th>\n",
              "    </tr>\n",
              "  </thead>\n",
              "  <tbody>\n",
              "    <tr>\n",
              "      <th>0</th>\n",
              "      <td>0</td>\n",
              "      <td>Abbeville</td>\n",
              "      <td>SC</td>\n",
              "      <td>0.629</td>\n",
              "      <td>0.346</td>\n",
              "      <td>10724.0</td>\n",
              "      <td>6742.0</td>\n",
              "      <td>3712.0</td>\n",
              "      <td>0.661</td>\n",
              "      <td>0.330</td>\n",
              "      <td>...</td>\n",
              "      <td>1.8</td>\n",
              "      <td>1.8</td>\n",
              "      <td>6.5</td>\n",
              "      <td>25.8</td>\n",
              "      <td>9505.0</td>\n",
              "      <td>78.8</td>\n",
              "      <td>13.3</td>\n",
              "      <td>7.8</td>\n",
              "      <td>0.1</td>\n",
              "      <td>9.4</td>\n",
              "    </tr>\n",
              "    <tr>\n",
              "      <th>1</th>\n",
              "      <td>1</td>\n",
              "      <td>Acadia</td>\n",
              "      <td>LA</td>\n",
              "      <td>0.773</td>\n",
              "      <td>0.206</td>\n",
              "      <td>27386.0</td>\n",
              "      <td>21159.0</td>\n",
              "      <td>5638.0</td>\n",
              "      <td>0.795</td>\n",
              "      <td>0.191</td>\n",
              "      <td>...</td>\n",
              "      <td>1.6</td>\n",
              "      <td>2.2</td>\n",
              "      <td>2.5</td>\n",
              "      <td>27.6</td>\n",
              "      <td>24982.0</td>\n",
              "      <td>80.0</td>\n",
              "      <td>12.1</td>\n",
              "      <td>7.6</td>\n",
              "      <td>0.3</td>\n",
              "      <td>8.9</td>\n",
              "    </tr>\n",
              "    <tr>\n",
              "      <th>2</th>\n",
              "      <td>2</td>\n",
              "      <td>Accomack</td>\n",
              "      <td>VA</td>\n",
              "      <td>0.545</td>\n",
              "      <td>0.428</td>\n",
              "      <td>15755.0</td>\n",
              "      <td>8582.0</td>\n",
              "      <td>6737.0</td>\n",
              "      <td>0.542</td>\n",
              "      <td>0.447</td>\n",
              "      <td>...</td>\n",
              "      <td>2.6</td>\n",
              "      <td>1.8</td>\n",
              "      <td>4.5</td>\n",
              "      <td>22.0</td>\n",
              "      <td>13837.0</td>\n",
              "      <td>74.6</td>\n",
              "      <td>18.1</td>\n",
              "      <td>7.1</td>\n",
              "      <td>0.2</td>\n",
              "      <td>5.4</td>\n",
              "    </tr>\n",
              "    <tr>\n",
              "      <th>3</th>\n",
              "      <td>3</td>\n",
              "      <td>Ada</td>\n",
              "      <td>ID</td>\n",
              "      <td>0.479</td>\n",
              "      <td>0.387</td>\n",
              "      <td>195587.0</td>\n",
              "      <td>93748.0</td>\n",
              "      <td>75676.0</td>\n",
              "      <td>0.504</td>\n",
              "      <td>0.465</td>\n",
              "      <td>...</td>\n",
              "      <td>1.5</td>\n",
              "      <td>2.8</td>\n",
              "      <td>6.9</td>\n",
              "      <td>20.4</td>\n",
              "      <td>214984.0</td>\n",
              "      <td>78.3</td>\n",
              "      <td>15.0</td>\n",
              "      <td>6.6</td>\n",
              "      <td>0.1</td>\n",
              "      <td>4.3</td>\n",
              "    </tr>\n",
              "    <tr>\n",
              "      <th>4</th>\n",
              "      <td>4</td>\n",
              "      <td>Adair</td>\n",
              "      <td>IA</td>\n",
              "      <td>0.653</td>\n",
              "      <td>0.300</td>\n",
              "      <td>3759.0</td>\n",
              "      <td>2456.0</td>\n",
              "      <td>1127.0</td>\n",
              "      <td>0.697</td>\n",
              "      <td>0.286</td>\n",
              "      <td>...</td>\n",
              "      <td>2.8</td>\n",
              "      <td>0.4</td>\n",
              "      <td>6.2</td>\n",
              "      <td>22.3</td>\n",
              "      <td>3680.0</td>\n",
              "      <td>73.8</td>\n",
              "      <td>15.3</td>\n",
              "      <td>10.4</td>\n",
              "      <td>0.5</td>\n",
              "      <td>3.0</td>\n",
              "    </tr>\n",
              "  </tbody>\n",
              "</table>\n",
              "<p>5 rows × 51 columns</p>\n",
              "</div>\n",
              "      <button class=\"colab-df-convert\" onclick=\"convertToInteractive('df-2c2b06fa-0439-4419-a057-964c5e8226d9')\"\n",
              "              title=\"Convert this dataframe to an interactive table.\"\n",
              "              style=\"display:none;\">\n",
              "        \n",
              "  <svg xmlns=\"http://www.w3.org/2000/svg\" height=\"24px\"viewBox=\"0 0 24 24\"\n",
              "       width=\"24px\">\n",
              "    <path d=\"M0 0h24v24H0V0z\" fill=\"none\"/>\n",
              "    <path d=\"M18.56 5.44l.94 2.06.94-2.06 2.06-.94-2.06-.94-.94-2.06-.94 2.06-2.06.94zm-11 1L8.5 8.5l.94-2.06 2.06-.94-2.06-.94L8.5 2.5l-.94 2.06-2.06.94zm10 10l.94 2.06.94-2.06 2.06-.94-2.06-.94-.94-2.06-.94 2.06-2.06.94z\"/><path d=\"M17.41 7.96l-1.37-1.37c-.4-.4-.92-.59-1.43-.59-.52 0-1.04.2-1.43.59L10.3 9.45l-7.72 7.72c-.78.78-.78 2.05 0 2.83L4 21.41c.39.39.9.59 1.41.59.51 0 1.02-.2 1.41-.59l7.78-7.78 2.81-2.81c.8-.78.8-2.07 0-2.86zM5.41 20L4 18.59l7.72-7.72 1.47 1.35L5.41 20z\"/>\n",
              "  </svg>\n",
              "      </button>\n",
              "      \n",
              "  <style>\n",
              "    .colab-df-container {\n",
              "      display:flex;\n",
              "      flex-wrap:wrap;\n",
              "      gap: 12px;\n",
              "    }\n",
              "\n",
              "    .colab-df-convert {\n",
              "      background-color: #E8F0FE;\n",
              "      border: none;\n",
              "      border-radius: 50%;\n",
              "      cursor: pointer;\n",
              "      display: none;\n",
              "      fill: #1967D2;\n",
              "      height: 32px;\n",
              "      padding: 0 0 0 0;\n",
              "      width: 32px;\n",
              "    }\n",
              "\n",
              "    .colab-df-convert:hover {\n",
              "      background-color: #E2EBFA;\n",
              "      box-shadow: 0px 1px 2px rgba(60, 64, 67, 0.3), 0px 1px 3px 1px rgba(60, 64, 67, 0.15);\n",
              "      fill: #174EA6;\n",
              "    }\n",
              "\n",
              "    [theme=dark] .colab-df-convert {\n",
              "      background-color: #3B4455;\n",
              "      fill: #D2E3FC;\n",
              "    }\n",
              "\n",
              "    [theme=dark] .colab-df-convert:hover {\n",
              "      background-color: #434B5C;\n",
              "      box-shadow: 0px 1px 3px 1px rgba(0, 0, 0, 0.15);\n",
              "      filter: drop-shadow(0px 1px 2px rgba(0, 0, 0, 0.3));\n",
              "      fill: #FFFFFF;\n",
              "    }\n",
              "  </style>\n",
              "\n",
              "      <script>\n",
              "        const buttonEl =\n",
              "          document.querySelector('#df-2c2b06fa-0439-4419-a057-964c5e8226d9 button.colab-df-convert');\n",
              "        buttonEl.style.display =\n",
              "          google.colab.kernel.accessAllowed ? 'block' : 'none';\n",
              "\n",
              "        async function convertToInteractive(key) {\n",
              "          const element = document.querySelector('#df-2c2b06fa-0439-4419-a057-964c5e8226d9');\n",
              "          const dataTable =\n",
              "            await google.colab.kernel.invokeFunction('convertToInteractive',\n",
              "                                                     [key], {});\n",
              "          if (!dataTable) return;\n",
              "\n",
              "          const docLinkHtml = 'Like what you see? Visit the ' +\n",
              "            '<a target=\"_blank\" href=https://colab.research.google.com/notebooks/data_table.ipynb>data table notebook</a>'\n",
              "            + ' to learn more about interactive tables.';\n",
              "          element.innerHTML = '';\n",
              "          dataTable['output_type'] = 'display_data';\n",
              "          await google.colab.output.renderOutput(dataTable, element);\n",
              "          const docLink = document.createElement('div');\n",
              "          docLink.innerHTML = docLinkHtml;\n",
              "          element.appendChild(docLink);\n",
              "        }\n",
              "      </script>\n",
              "    </div>\n",
              "  </div>\n",
              "  "
            ]
          },
          "metadata": {},
          "execution_count": 7
        }
      ],
      "source": [
        "df.head()"
      ]
    },
    {
      "cell_type": "code",
      "execution_count": 8,
      "metadata": {
        "id": "yjix5mIYfR6z",
        "colab": {
          "base_uri": "https://localhost:8080/"
        },
        "outputId": "cc039d85-7f89-409f-9d65-76eec38d5a60"
      },
      "outputs": [
        {
          "output_type": "execute_result",
          "data": {
            "text/plain": [
              "Index(['Unnamed: 0', 'county', 'state', 'percentage16_Donald_Trump',\n",
              "       'percentage16_Hillary_Clinton', 'total_votes16', 'votes16_Donald_Trump',\n",
              "       'votes16_Hillary_Clinton', 'percentage20_Donald_Trump',\n",
              "       'percentage20_Joe_Biden', 'total_votes20', 'votes20_Donald_Trump',\n",
              "       'votes20_Joe_Biden', 'lat', 'long', 'cases', 'deaths', 'TotalPop',\n",
              "       'Men', 'Women', 'Hispanic', 'White', 'Black', 'Native', 'Asian',\n",
              "       'Pacific', 'VotingAgeCitizen', 'Income', 'IncomeErr', 'IncomePerCap',\n",
              "       'IncomePerCapErr', 'Poverty', 'ChildPoverty', 'Professional', 'Service',\n",
              "       'Office', 'Construction', 'Production', 'Drive', 'Carpool', 'Transit',\n",
              "       'Walk', 'OtherTransp', 'WorkAtHome', 'MeanCommute', 'Employed',\n",
              "       'PrivateWork', 'PublicWork', 'SelfEmployed', 'FamilyWork',\n",
              "       'Unemployment'],\n",
              "      dtype='object')"
            ]
          },
          "metadata": {},
          "execution_count": 8
        }
      ],
      "source": [
        "df.columns"
      ]
    },
    {
      "cell_type": "code",
      "execution_count": 9,
      "metadata": {
        "id": "6ggnc9EjIFzQ",
        "colab": {
          "base_uri": "https://localhost:8080/"
        },
        "outputId": "b3d6a29c-7cf1-4739-f5ed-65f91bd7064e"
      },
      "outputs": [
        {
          "output_type": "stream",
          "name": "stdout",
          "text": [
            "<class 'pandas.core.frame.DataFrame'>\n",
            "RangeIndex: 16438 entries, 0 to 16437\n",
            "Data columns (total 38 columns):\n",
            " #   Column                     Non-Null Count  Dtype  \n",
            "---  ------                     --------------  -----  \n",
            " 0   question_id                16438 non-null  int64  \n",
            " 1   poll_id                    16438 non-null  int64  \n",
            " 2   cycle                      16438 non-null  int64  \n",
            " 3   state                      11385 non-null  object \n",
            " 4   pollster_id                16438 non-null  int64  \n",
            " 5   pollster                   16438 non-null  object \n",
            " 6   sponsor_ids                9968 non-null   object \n",
            " 7   sponsors                   9968 non-null   object \n",
            " 8   display_name               16438 non-null  object \n",
            " 9   pollster_rating_id         16425 non-null  float64\n",
            " 10  pollster_rating_name       16425 non-null  object \n",
            " 11  fte_grade                  15253 non-null  object \n",
            " 12  sample_size                16436 non-null  float64\n",
            " 13  population                 16438 non-null  object \n",
            " 14  population_full            16438 non-null  object \n",
            " 15  methodology                16138 non-null  object \n",
            " 16  office_type                16438 non-null  object \n",
            " 17  seat_number                16438 non-null  int64  \n",
            " 18  seat_name                  0 non-null      float64\n",
            " 19  start_date                 16438 non-null  object \n",
            " 20  end_date                   16438 non-null  object \n",
            " 21  election_date              16438 non-null  object \n",
            " 22  sponsor_candidate          54 non-null     object \n",
            " 23  internal                   16438 non-null  bool   \n",
            " 24  partisan                   743 non-null    object \n",
            " 25  tracking                   6384 non-null   object \n",
            " 26  nationwide_batch           16438 non-null  bool   \n",
            " 27  ranked_choice_reallocated  16438 non-null  bool   \n",
            " 28  created_at                 16438 non-null  object \n",
            " 29  notes                      623 non-null    object \n",
            " 30  url                        16230 non-null  object \n",
            " 31  stage                      16438 non-null  object \n",
            " 32  race_id                    16438 non-null  int64  \n",
            " 33  answer                     16438 non-null  object \n",
            " 34  candidate_id               16438 non-null  int64  \n",
            " 35  candidate_name             16438 non-null  object \n",
            " 36  candidate_party            16438 non-null  object \n",
            " 37  pct                        16438 non-null  float64\n",
            "dtypes: bool(3), float64(4), int64(7), object(24)\n",
            "memory usage: 4.4+ MB\n"
          ]
        }
      ],
      "source": [
        "trump_biden_df.info()"
      ]
    },
    {
      "cell_type": "markdown",
      "metadata": {
        "id": "VtRIXYa-Ie9S"
      },
      "source": [
        "##Cleaning the Dataset\n"
      ]
    },
    {
      "cell_type": "code",
      "execution_count": 10,
      "metadata": {
        "id": "6yNeeet4IgNt"
      },
      "outputs": [],
      "source": [
        "#dropping irrelevant columns\n"
      ]
    },
    {
      "cell_type": "code",
      "execution_count": 11,
      "metadata": {
        "id": "55vlZyrlcRda",
        "colab": {
          "base_uri": "https://localhost:8080/"
        },
        "outputId": "07ecab99-0fec-4bfb-813d-a6156d12d96e"
      },
      "outputs": [
        {
          "output_type": "execute_result",
          "data": {
            "text/plain": [
              "Index(['Unnamed: 0', 'county', 'state', 'percentage16_Donald_Trump',\n",
              "       'percentage16_Hillary_Clinton', 'total_votes16', 'votes16_Donald_Trump',\n",
              "       'votes16_Hillary_Clinton', 'percentage20_Donald_Trump',\n",
              "       'percentage20_Joe_Biden', 'total_votes20', 'votes20_Donald_Trump',\n",
              "       'votes20_Joe_Biden', 'lat', 'long', 'cases', 'deaths', 'TotalPop',\n",
              "       'Men', 'Women', 'Hispanic', 'White', 'Black', 'Native', 'Asian',\n",
              "       'Pacific', 'VotingAgeCitizen', 'Income', 'IncomeErr', 'IncomePerCap',\n",
              "       'IncomePerCapErr', 'Poverty', 'ChildPoverty', 'Professional', 'Service',\n",
              "       'Office', 'Construction', 'Production', 'Drive', 'Carpool', 'Transit',\n",
              "       'Walk', 'OtherTransp', 'WorkAtHome', 'MeanCommute', 'Employed',\n",
              "       'PrivateWork', 'PublicWork', 'SelfEmployed', 'FamilyWork',\n",
              "       'Unemployment'],\n",
              "      dtype='object')"
            ]
          },
          "metadata": {},
          "execution_count": 11
        }
      ],
      "source": [
        "df.columns"
      ]
    },
    {
      "cell_type": "code",
      "execution_count": 12,
      "metadata": {
        "id": "Cljoimg2cyGg",
        "colab": {
          "base_uri": "https://localhost:8080/"
        },
        "outputId": "8e7a8c4b-a8bb-4f33-b553-15fd99bf0235"
      },
      "outputs": [
        {
          "output_type": "stream",
          "name": "stdout",
          "text": [
            "<class 'pandas.core.frame.DataFrame'>\n",
            "RangeIndex: 4867 entries, 0 to 4866\n",
            "Data columns (total 51 columns):\n",
            " #   Column                        Non-Null Count  Dtype  \n",
            "---  ------                        --------------  -----  \n",
            " 0   Unnamed: 0                    4867 non-null   int64  \n",
            " 1   county                        4867 non-null   object \n",
            " 2   state                         4867 non-null   object \n",
            " 3   percentage16_Donald_Trump     3111 non-null   float64\n",
            " 4   percentage16_Hillary_Clinton  3111 non-null   float64\n",
            " 5   total_votes16                 3111 non-null   float64\n",
            " 6   votes16_Donald_Trump          3111 non-null   float64\n",
            " 7   votes16_Hillary_Clinton       3111 non-null   float64\n",
            " 8   percentage20_Donald_Trump     4490 non-null   float64\n",
            " 9   percentage20_Joe_Biden        4490 non-null   float64\n",
            " 10  total_votes20                 4633 non-null   float64\n",
            " 11  votes20_Donald_Trump          4633 non-null   float64\n",
            " 12  votes20_Joe_Biden             4633 non-null   float64\n",
            " 13  lat                           3252 non-null   float64\n",
            " 14  long                          3252 non-null   float64\n",
            " 15  cases                         3252 non-null   float64\n",
            " 16  deaths                        3252 non-null   float64\n",
            " 17  TotalPop                      3142 non-null   float64\n",
            " 18  Men                           3142 non-null   float64\n",
            " 19  Women                         3142 non-null   float64\n",
            " 20  Hispanic                      3142 non-null   float64\n",
            " 21  White                         3142 non-null   float64\n",
            " 22  Black                         3142 non-null   float64\n",
            " 23  Native                        3142 non-null   float64\n",
            " 24  Asian                         3142 non-null   float64\n",
            " 25  Pacific                       3142 non-null   float64\n",
            " 26  VotingAgeCitizen              3142 non-null   float64\n",
            " 27  Income                        3142 non-null   float64\n",
            " 28  IncomeErr                     3142 non-null   float64\n",
            " 29  IncomePerCap                  3142 non-null   float64\n",
            " 30  IncomePerCapErr               3142 non-null   float64\n",
            " 31  Poverty                       3142 non-null   float64\n",
            " 32  ChildPoverty                  3141 non-null   float64\n",
            " 33  Professional                  3142 non-null   float64\n",
            " 34  Service                       3142 non-null   float64\n",
            " 35  Office                        3142 non-null   float64\n",
            " 36  Construction                  3142 non-null   float64\n",
            " 37  Production                    3142 non-null   float64\n",
            " 38  Drive                         3142 non-null   float64\n",
            " 39  Carpool                       3142 non-null   float64\n",
            " 40  Transit                       3142 non-null   float64\n",
            " 41  Walk                          3142 non-null   float64\n",
            " 42  OtherTransp                   3142 non-null   float64\n",
            " 43  WorkAtHome                    3142 non-null   float64\n",
            " 44  MeanCommute                   3142 non-null   float64\n",
            " 45  Employed                      3142 non-null   float64\n",
            " 46  PrivateWork                   3142 non-null   float64\n",
            " 47  PublicWork                    3142 non-null   float64\n",
            " 48  SelfEmployed                  3142 non-null   float64\n",
            " 49  FamilyWork                    3142 non-null   float64\n",
            " 50  Unemployment                  3142 non-null   float64\n",
            "dtypes: float64(48), int64(1), object(2)\n",
            "memory usage: 1.9+ MB\n"
          ]
        }
      ],
      "source": [
        "df.info() # It can be seen that, the only oject dtype is 'county' and 'state'"
      ]
    },
    {
      "cell_type": "code",
      "execution_count": 13,
      "metadata": {
        "id": "nNaApa1SCKzd",
        "colab": {
          "base_uri": "https://localhost:8080/"
        },
        "outputId": "a69566b1-0c60-4238-f3f4-522f14e9a993"
      },
      "outputs": [
        {
          "output_type": "execute_result",
          "data": {
            "text/plain": [
              "Unnamed: 0                         0\n",
              "county                             0\n",
              "state                              0\n",
              "percentage16_Donald_Trump       1756\n",
              "percentage16_Hillary_Clinton    1756\n",
              "total_votes16                   1756\n",
              "votes16_Donald_Trump            1756\n",
              "votes16_Hillary_Clinton         1756\n",
              "percentage20_Donald_Trump        377\n",
              "percentage20_Joe_Biden           377\n",
              "total_votes20                    234\n",
              "votes20_Donald_Trump             234\n",
              "votes20_Joe_Biden                234\n",
              "lat                             1615\n",
              "long                            1615\n",
              "cases                           1615\n",
              "deaths                          1615\n",
              "TotalPop                        1725\n",
              "Men                             1725\n",
              "Women                           1725\n",
              "Hispanic                        1725\n",
              "White                           1725\n",
              "Black                           1725\n",
              "Native                          1725\n",
              "Asian                           1725\n",
              "Pacific                         1725\n",
              "VotingAgeCitizen                1725\n",
              "Income                          1725\n",
              "IncomeErr                       1725\n",
              "IncomePerCap                    1725\n",
              "IncomePerCapErr                 1725\n",
              "Poverty                         1725\n",
              "ChildPoverty                    1726\n",
              "Professional                    1725\n",
              "Service                         1725\n",
              "Office                          1725\n",
              "Construction                    1725\n",
              "Production                      1725\n",
              "Drive                           1725\n",
              "Carpool                         1725\n",
              "Transit                         1725\n",
              "Walk                            1725\n",
              "OtherTransp                     1725\n",
              "WorkAtHome                      1725\n",
              "MeanCommute                     1725\n",
              "Employed                        1725\n",
              "PrivateWork                     1725\n",
              "PublicWork                      1725\n",
              "SelfEmployed                    1725\n",
              "FamilyWork                      1725\n",
              "Unemployment                    1725\n",
              "dtype: int64"
            ]
          },
          "metadata": {},
          "execution_count": 13
        }
      ],
      "source": [
        "df.isnull().sum()\n"
      ]
    },
    {
      "cell_type": "code",
      "source": [
        ""
      ],
      "metadata": {
        "id": "HVnACoejmAWi"
      },
      "execution_count": 13,
      "outputs": []
    },
    {
      "cell_type": "markdown",
      "source": [
        "##Let's look for missing values"
      ],
      "metadata": {
        "id": "j0iSWiFiyDk1"
      }
    },
    {
      "cell_type": "code",
      "source": [
        "# Check if there any missing values in train set\n",
        "ax = df.isna().sum().sort_values().plot(kind = 'barh', figsize = (9, 10))\n",
        "plt.title('Percentage of Missing Values Per Column in df Set', fontdict={'size':15})\n",
        "for p in ax.patches:\n",
        "    percentage ='{:,.0f}%'.format((p.get_width()/df.shape[0])*100)\n",
        "    width, height =p.get_width(),p.get_height()\n",
        "    x=p.get_x()+width+0.02\n",
        "    y=p.get_y()+height/2\n",
        "    ax.annotate(percentage,(x,y))"
      ],
      "metadata": {
        "id": "qkBKDuSryFHl"
      },
      "execution_count": null,
      "outputs": []
    },
    {
      "cell_type": "code",
      "source": [
        "# handle missing values\n",
        "df_clean = df.fillna(df.mean())\n",
        "df_clean.head()"
      ],
      "metadata": {
        "colab": {
          "base_uri": "https://localhost:8080/",
          "height": 317
        },
        "id": "G5Hyzsr2mXQj",
        "outputId": "c2ea462a-8fe4-4547-bd58-333e129eddca"
      },
      "execution_count": 15,
      "outputs": [
        {
          "output_type": "execute_result",
          "data": {
            "text/plain": [
              "   Unnamed: 0     county state  percentage16_Donald_Trump  \\\n",
              "0           0  Abbeville    SC                      0.629   \n",
              "1           1     Acadia    LA                      0.773   \n",
              "2           2   Accomack    VA                      0.545   \n",
              "3           3        Ada    ID                      0.479   \n",
              "4           4      Adair    IA                      0.653   \n",
              "\n",
              "   percentage16_Hillary_Clinton  total_votes16  votes16_Donald_Trump  \\\n",
              "0                         0.346        10724.0                6742.0   \n",
              "1                         0.206        27386.0               21159.0   \n",
              "2                         0.428        15755.0                8582.0   \n",
              "3                         0.387       195587.0               93748.0   \n",
              "4                         0.300         3759.0                2456.0   \n",
              "\n",
              "   votes16_Hillary_Clinton  percentage20_Donald_Trump  percentage20_Joe_Biden  \\\n",
              "0                   3712.0                      0.661                   0.330   \n",
              "1                   5638.0                      0.795                   0.191   \n",
              "2                   6737.0                      0.542                   0.447   \n",
              "3                  75676.0                      0.504                   0.465   \n",
              "4                   1127.0                      0.697                   0.286   \n",
              "\n",
              "   ...  Walk  OtherTransp  WorkAtHome  MeanCommute  Employed  PrivateWork  \\\n",
              "0  ...   1.8          1.8         6.5         25.8    9505.0         78.8   \n",
              "1  ...   1.6          2.2         2.5         27.6   24982.0         80.0   \n",
              "2  ...   2.6          1.8         4.5         22.0   13837.0         74.6   \n",
              "3  ...   1.5          2.8         6.9         20.4  214984.0         78.3   \n",
              "4  ...   2.8          0.4         6.2         22.3    3680.0         73.8   \n",
              "\n",
              "   PublicWork  SelfEmployed  FamilyWork  Unemployment  \n",
              "0        13.3           7.8         0.1           9.4  \n",
              "1        12.1           7.6         0.3           8.9  \n",
              "2        18.1           7.1         0.2           5.4  \n",
              "3        15.0           6.6         0.1           4.3  \n",
              "4        15.3          10.4         0.5           3.0  \n",
              "\n",
              "[5 rows x 51 columns]"
            ],
            "text/html": [
              "\n",
              "  <div id=\"df-ffdfe2ab-3545-49c3-a197-c8b86e3af041\">\n",
              "    <div class=\"colab-df-container\">\n",
              "      <div>\n",
              "<style scoped>\n",
              "    .dataframe tbody tr th:only-of-type {\n",
              "        vertical-align: middle;\n",
              "    }\n",
              "\n",
              "    .dataframe tbody tr th {\n",
              "        vertical-align: top;\n",
              "    }\n",
              "\n",
              "    .dataframe thead th {\n",
              "        text-align: right;\n",
              "    }\n",
              "</style>\n",
              "<table border=\"1\" class=\"dataframe\">\n",
              "  <thead>\n",
              "    <tr style=\"text-align: right;\">\n",
              "      <th></th>\n",
              "      <th>Unnamed: 0</th>\n",
              "      <th>county</th>\n",
              "      <th>state</th>\n",
              "      <th>percentage16_Donald_Trump</th>\n",
              "      <th>percentage16_Hillary_Clinton</th>\n",
              "      <th>total_votes16</th>\n",
              "      <th>votes16_Donald_Trump</th>\n",
              "      <th>votes16_Hillary_Clinton</th>\n",
              "      <th>percentage20_Donald_Trump</th>\n",
              "      <th>percentage20_Joe_Biden</th>\n",
              "      <th>...</th>\n",
              "      <th>Walk</th>\n",
              "      <th>OtherTransp</th>\n",
              "      <th>WorkAtHome</th>\n",
              "      <th>MeanCommute</th>\n",
              "      <th>Employed</th>\n",
              "      <th>PrivateWork</th>\n",
              "      <th>PublicWork</th>\n",
              "      <th>SelfEmployed</th>\n",
              "      <th>FamilyWork</th>\n",
              "      <th>Unemployment</th>\n",
              "    </tr>\n",
              "  </thead>\n",
              "  <tbody>\n",
              "    <tr>\n",
              "      <th>0</th>\n",
              "      <td>0</td>\n",
              "      <td>Abbeville</td>\n",
              "      <td>SC</td>\n",
              "      <td>0.629</td>\n",
              "      <td>0.346</td>\n",
              "      <td>10724.0</td>\n",
              "      <td>6742.0</td>\n",
              "      <td>3712.0</td>\n",
              "      <td>0.661</td>\n",
              "      <td>0.330</td>\n",
              "      <td>...</td>\n",
              "      <td>1.8</td>\n",
              "      <td>1.8</td>\n",
              "      <td>6.5</td>\n",
              "      <td>25.8</td>\n",
              "      <td>9505.0</td>\n",
              "      <td>78.8</td>\n",
              "      <td>13.3</td>\n",
              "      <td>7.8</td>\n",
              "      <td>0.1</td>\n",
              "      <td>9.4</td>\n",
              "    </tr>\n",
              "    <tr>\n",
              "      <th>1</th>\n",
              "      <td>1</td>\n",
              "      <td>Acadia</td>\n",
              "      <td>LA</td>\n",
              "      <td>0.773</td>\n",
              "      <td>0.206</td>\n",
              "      <td>27386.0</td>\n",
              "      <td>21159.0</td>\n",
              "      <td>5638.0</td>\n",
              "      <td>0.795</td>\n",
              "      <td>0.191</td>\n",
              "      <td>...</td>\n",
              "      <td>1.6</td>\n",
              "      <td>2.2</td>\n",
              "      <td>2.5</td>\n",
              "      <td>27.6</td>\n",
              "      <td>24982.0</td>\n",
              "      <td>80.0</td>\n",
              "      <td>12.1</td>\n",
              "      <td>7.6</td>\n",
              "      <td>0.3</td>\n",
              "      <td>8.9</td>\n",
              "    </tr>\n",
              "    <tr>\n",
              "      <th>2</th>\n",
              "      <td>2</td>\n",
              "      <td>Accomack</td>\n",
              "      <td>VA</td>\n",
              "      <td>0.545</td>\n",
              "      <td>0.428</td>\n",
              "      <td>15755.0</td>\n",
              "      <td>8582.0</td>\n",
              "      <td>6737.0</td>\n",
              "      <td>0.542</td>\n",
              "      <td>0.447</td>\n",
              "      <td>...</td>\n",
              "      <td>2.6</td>\n",
              "      <td>1.8</td>\n",
              "      <td>4.5</td>\n",
              "      <td>22.0</td>\n",
              "      <td>13837.0</td>\n",
              "      <td>74.6</td>\n",
              "      <td>18.1</td>\n",
              "      <td>7.1</td>\n",
              "      <td>0.2</td>\n",
              "      <td>5.4</td>\n",
              "    </tr>\n",
              "    <tr>\n",
              "      <th>3</th>\n",
              "      <td>3</td>\n",
              "      <td>Ada</td>\n",
              "      <td>ID</td>\n",
              "      <td>0.479</td>\n",
              "      <td>0.387</td>\n",
              "      <td>195587.0</td>\n",
              "      <td>93748.0</td>\n",
              "      <td>75676.0</td>\n",
              "      <td>0.504</td>\n",
              "      <td>0.465</td>\n",
              "      <td>...</td>\n",
              "      <td>1.5</td>\n",
              "      <td>2.8</td>\n",
              "      <td>6.9</td>\n",
              "      <td>20.4</td>\n",
              "      <td>214984.0</td>\n",
              "      <td>78.3</td>\n",
              "      <td>15.0</td>\n",
              "      <td>6.6</td>\n",
              "      <td>0.1</td>\n",
              "      <td>4.3</td>\n",
              "    </tr>\n",
              "    <tr>\n",
              "      <th>4</th>\n",
              "      <td>4</td>\n",
              "      <td>Adair</td>\n",
              "      <td>IA</td>\n",
              "      <td>0.653</td>\n",
              "      <td>0.300</td>\n",
              "      <td>3759.0</td>\n",
              "      <td>2456.0</td>\n",
              "      <td>1127.0</td>\n",
              "      <td>0.697</td>\n",
              "      <td>0.286</td>\n",
              "      <td>...</td>\n",
              "      <td>2.8</td>\n",
              "      <td>0.4</td>\n",
              "      <td>6.2</td>\n",
              "      <td>22.3</td>\n",
              "      <td>3680.0</td>\n",
              "      <td>73.8</td>\n",
              "      <td>15.3</td>\n",
              "      <td>10.4</td>\n",
              "      <td>0.5</td>\n",
              "      <td>3.0</td>\n",
              "    </tr>\n",
              "  </tbody>\n",
              "</table>\n",
              "<p>5 rows × 51 columns</p>\n",
              "</div>\n",
              "      <button class=\"colab-df-convert\" onclick=\"convertToInteractive('df-ffdfe2ab-3545-49c3-a197-c8b86e3af041')\"\n",
              "              title=\"Convert this dataframe to an interactive table.\"\n",
              "              style=\"display:none;\">\n",
              "        \n",
              "  <svg xmlns=\"http://www.w3.org/2000/svg\" height=\"24px\"viewBox=\"0 0 24 24\"\n",
              "       width=\"24px\">\n",
              "    <path d=\"M0 0h24v24H0V0z\" fill=\"none\"/>\n",
              "    <path d=\"M18.56 5.44l.94 2.06.94-2.06 2.06-.94-2.06-.94-.94-2.06-.94 2.06-2.06.94zm-11 1L8.5 8.5l.94-2.06 2.06-.94-2.06-.94L8.5 2.5l-.94 2.06-2.06.94zm10 10l.94 2.06.94-2.06 2.06-.94-2.06-.94-.94-2.06-.94 2.06-2.06.94z\"/><path d=\"M17.41 7.96l-1.37-1.37c-.4-.4-.92-.59-1.43-.59-.52 0-1.04.2-1.43.59L10.3 9.45l-7.72 7.72c-.78.78-.78 2.05 0 2.83L4 21.41c.39.39.9.59 1.41.59.51 0 1.02-.2 1.41-.59l7.78-7.78 2.81-2.81c.8-.78.8-2.07 0-2.86zM5.41 20L4 18.59l7.72-7.72 1.47 1.35L5.41 20z\"/>\n",
              "  </svg>\n",
              "      </button>\n",
              "      \n",
              "  <style>\n",
              "    .colab-df-container {\n",
              "      display:flex;\n",
              "      flex-wrap:wrap;\n",
              "      gap: 12px;\n",
              "    }\n",
              "\n",
              "    .colab-df-convert {\n",
              "      background-color: #E8F0FE;\n",
              "      border: none;\n",
              "      border-radius: 50%;\n",
              "      cursor: pointer;\n",
              "      display: none;\n",
              "      fill: #1967D2;\n",
              "      height: 32px;\n",
              "      padding: 0 0 0 0;\n",
              "      width: 32px;\n",
              "    }\n",
              "\n",
              "    .colab-df-convert:hover {\n",
              "      background-color: #E2EBFA;\n",
              "      box-shadow: 0px 1px 2px rgba(60, 64, 67, 0.3), 0px 1px 3px 1px rgba(60, 64, 67, 0.15);\n",
              "      fill: #174EA6;\n",
              "    }\n",
              "\n",
              "    [theme=dark] .colab-df-convert {\n",
              "      background-color: #3B4455;\n",
              "      fill: #D2E3FC;\n",
              "    }\n",
              "\n",
              "    [theme=dark] .colab-df-convert:hover {\n",
              "      background-color: #434B5C;\n",
              "      box-shadow: 0px 1px 3px 1px rgba(0, 0, 0, 0.15);\n",
              "      filter: drop-shadow(0px 1px 2px rgba(0, 0, 0, 0.3));\n",
              "      fill: #FFFFFF;\n",
              "    }\n",
              "  </style>\n",
              "\n",
              "      <script>\n",
              "        const buttonEl =\n",
              "          document.querySelector('#df-ffdfe2ab-3545-49c3-a197-c8b86e3af041 button.colab-df-convert');\n",
              "        buttonEl.style.display =\n",
              "          google.colab.kernel.accessAllowed ? 'block' : 'none';\n",
              "\n",
              "        async function convertToInteractive(key) {\n",
              "          const element = document.querySelector('#df-ffdfe2ab-3545-49c3-a197-c8b86e3af041');\n",
              "          const dataTable =\n",
              "            await google.colab.kernel.invokeFunction('convertToInteractive',\n",
              "                                                     [key], {});\n",
              "          if (!dataTable) return;\n",
              "\n",
              "          const docLinkHtml = 'Like what you see? Visit the ' +\n",
              "            '<a target=\"_blank\" href=https://colab.research.google.com/notebooks/data_table.ipynb>data table notebook</a>'\n",
              "            + ' to learn more about interactive tables.';\n",
              "          element.innerHTML = '';\n",
              "          dataTable['output_type'] = 'display_data';\n",
              "          await google.colab.output.renderOutput(dataTable, element);\n",
              "          const docLink = document.createElement('div');\n",
              "          docLink.innerHTML = docLinkHtml;\n",
              "          element.appendChild(docLink);\n",
              "        }\n",
              "      </script>\n",
              "    </div>\n",
              "  </div>\n",
              "  "
            ]
          },
          "metadata": {},
          "execution_count": 15
        }
      ]
    },
    {
      "cell_type": "code",
      "source": [
        "df_clean.isnull().sum()"
      ],
      "metadata": {
        "colab": {
          "base_uri": "https://localhost:8080/"
        },
        "id": "vvcbVqqamqXP",
        "outputId": "485ddf61-8de8-4ca4-9c18-4acd272a448d"
      },
      "execution_count": 16,
      "outputs": [
        {
          "output_type": "execute_result",
          "data": {
            "text/plain": [
              "Unnamed: 0                      0\n",
              "county                          0\n",
              "state                           0\n",
              "percentage16_Donald_Trump       0\n",
              "percentage16_Hillary_Clinton    0\n",
              "total_votes16                   0\n",
              "votes16_Donald_Trump            0\n",
              "votes16_Hillary_Clinton         0\n",
              "percentage20_Donald_Trump       0\n",
              "percentage20_Joe_Biden          0\n",
              "total_votes20                   0\n",
              "votes20_Donald_Trump            0\n",
              "votes20_Joe_Biden               0\n",
              "lat                             0\n",
              "long                            0\n",
              "cases                           0\n",
              "deaths                          0\n",
              "TotalPop                        0\n",
              "Men                             0\n",
              "Women                           0\n",
              "Hispanic                        0\n",
              "White                           0\n",
              "Black                           0\n",
              "Native                          0\n",
              "Asian                           0\n",
              "Pacific                         0\n",
              "VotingAgeCitizen                0\n",
              "Income                          0\n",
              "IncomeErr                       0\n",
              "IncomePerCap                    0\n",
              "IncomePerCapErr                 0\n",
              "Poverty                         0\n",
              "ChildPoverty                    0\n",
              "Professional                    0\n",
              "Service                         0\n",
              "Office                          0\n",
              "Construction                    0\n",
              "Production                      0\n",
              "Drive                           0\n",
              "Carpool                         0\n",
              "Transit                         0\n",
              "Walk                            0\n",
              "OtherTransp                     0\n",
              "WorkAtHome                      0\n",
              "MeanCommute                     0\n",
              "Employed                        0\n",
              "PrivateWork                     0\n",
              "PublicWork                      0\n",
              "SelfEmployed                    0\n",
              "FamilyWork                      0\n",
              "Unemployment                    0\n",
              "dtype: int64"
            ]
          },
          "metadata": {},
          "execution_count": 16
        }
      ]
    },
    {
      "cell_type": "code",
      "source": [
        "data = df_clean.drop(['county', 'state'], axis=1)\n",
        "data.head()"
      ],
      "metadata": {
        "colab": {
          "base_uri": "https://localhost:8080/",
          "height": 317
        },
        "id": "wEOUPExrmzoQ",
        "outputId": "4d858445-c755-4e05-f6e6-ab29e73042d4"
      },
      "execution_count": 17,
      "outputs": [
        {
          "output_type": "execute_result",
          "data": {
            "text/plain": [
              "   Unnamed: 0  percentage16_Donald_Trump  percentage16_Hillary_Clinton  \\\n",
              "0           0                      0.629                         0.346   \n",
              "1           1                      0.773                         0.206   \n",
              "2           2                      0.545                         0.428   \n",
              "3           3                      0.479                         0.387   \n",
              "4           4                      0.653                         0.300   \n",
              "\n",
              "   total_votes16  votes16_Donald_Trump  votes16_Hillary_Clinton  \\\n",
              "0        10724.0                6742.0                   3712.0   \n",
              "1        27386.0               21159.0                   5638.0   \n",
              "2        15755.0                8582.0                   6737.0   \n",
              "3       195587.0               93748.0                  75676.0   \n",
              "4         3759.0                2456.0                   1127.0   \n",
              "\n",
              "   percentage20_Donald_Trump  percentage20_Joe_Biden  total_votes20  \\\n",
              "0                      0.661                   0.330        12433.0   \n",
              "1                      0.795                   0.191        28425.0   \n",
              "2                      0.542                   0.447        16938.0   \n",
              "3                      0.504                   0.465       259389.0   \n",
              "4                      0.697                   0.286         4183.0   \n",
              "\n",
              "   votes20_Donald_Trump  ...  Walk  OtherTransp  WorkAtHome  MeanCommute  \\\n",
              "0                8215.0  ...   1.8          1.8         6.5         25.8   \n",
              "1               22596.0  ...   1.6          2.2         2.5         27.6   \n",
              "2                9172.0  ...   2.6          1.8         4.5         22.0   \n",
              "3              130699.0  ...   1.5          2.8         6.9         20.4   \n",
              "4                2917.0  ...   2.8          0.4         6.2         22.3   \n",
              "\n",
              "   Employed  PrivateWork  PublicWork  SelfEmployed  FamilyWork  Unemployment  \n",
              "0    9505.0         78.8        13.3           7.8         0.1           9.4  \n",
              "1   24982.0         80.0        12.1           7.6         0.3           8.9  \n",
              "2   13837.0         74.6        18.1           7.1         0.2           5.4  \n",
              "3  214984.0         78.3        15.0           6.6         0.1           4.3  \n",
              "4    3680.0         73.8        15.3          10.4         0.5           3.0  \n",
              "\n",
              "[5 rows x 49 columns]"
            ],
            "text/html": [
              "\n",
              "  <div id=\"df-40fa95c9-1b9e-4157-96ea-8784febad5d3\">\n",
              "    <div class=\"colab-df-container\">\n",
              "      <div>\n",
              "<style scoped>\n",
              "    .dataframe tbody tr th:only-of-type {\n",
              "        vertical-align: middle;\n",
              "    }\n",
              "\n",
              "    .dataframe tbody tr th {\n",
              "        vertical-align: top;\n",
              "    }\n",
              "\n",
              "    .dataframe thead th {\n",
              "        text-align: right;\n",
              "    }\n",
              "</style>\n",
              "<table border=\"1\" class=\"dataframe\">\n",
              "  <thead>\n",
              "    <tr style=\"text-align: right;\">\n",
              "      <th></th>\n",
              "      <th>Unnamed: 0</th>\n",
              "      <th>percentage16_Donald_Trump</th>\n",
              "      <th>percentage16_Hillary_Clinton</th>\n",
              "      <th>total_votes16</th>\n",
              "      <th>votes16_Donald_Trump</th>\n",
              "      <th>votes16_Hillary_Clinton</th>\n",
              "      <th>percentage20_Donald_Trump</th>\n",
              "      <th>percentage20_Joe_Biden</th>\n",
              "      <th>total_votes20</th>\n",
              "      <th>votes20_Donald_Trump</th>\n",
              "      <th>...</th>\n",
              "      <th>Walk</th>\n",
              "      <th>OtherTransp</th>\n",
              "      <th>WorkAtHome</th>\n",
              "      <th>MeanCommute</th>\n",
              "      <th>Employed</th>\n",
              "      <th>PrivateWork</th>\n",
              "      <th>PublicWork</th>\n",
              "      <th>SelfEmployed</th>\n",
              "      <th>FamilyWork</th>\n",
              "      <th>Unemployment</th>\n",
              "    </tr>\n",
              "  </thead>\n",
              "  <tbody>\n",
              "    <tr>\n",
              "      <th>0</th>\n",
              "      <td>0</td>\n",
              "      <td>0.629</td>\n",
              "      <td>0.346</td>\n",
              "      <td>10724.0</td>\n",
              "      <td>6742.0</td>\n",
              "      <td>3712.0</td>\n",
              "      <td>0.661</td>\n",
              "      <td>0.330</td>\n",
              "      <td>12433.0</td>\n",
              "      <td>8215.0</td>\n",
              "      <td>...</td>\n",
              "      <td>1.8</td>\n",
              "      <td>1.8</td>\n",
              "      <td>6.5</td>\n",
              "      <td>25.8</td>\n",
              "      <td>9505.0</td>\n",
              "      <td>78.8</td>\n",
              "      <td>13.3</td>\n",
              "      <td>7.8</td>\n",
              "      <td>0.1</td>\n",
              "      <td>9.4</td>\n",
              "    </tr>\n",
              "    <tr>\n",
              "      <th>1</th>\n",
              "      <td>1</td>\n",
              "      <td>0.773</td>\n",
              "      <td>0.206</td>\n",
              "      <td>27386.0</td>\n",
              "      <td>21159.0</td>\n",
              "      <td>5638.0</td>\n",
              "      <td>0.795</td>\n",
              "      <td>0.191</td>\n",
              "      <td>28425.0</td>\n",
              "      <td>22596.0</td>\n",
              "      <td>...</td>\n",
              "      <td>1.6</td>\n",
              "      <td>2.2</td>\n",
              "      <td>2.5</td>\n",
              "      <td>27.6</td>\n",
              "      <td>24982.0</td>\n",
              "      <td>80.0</td>\n",
              "      <td>12.1</td>\n",
              "      <td>7.6</td>\n",
              "      <td>0.3</td>\n",
              "      <td>8.9</td>\n",
              "    </tr>\n",
              "    <tr>\n",
              "      <th>2</th>\n",
              "      <td>2</td>\n",
              "      <td>0.545</td>\n",
              "      <td>0.428</td>\n",
              "      <td>15755.0</td>\n",
              "      <td>8582.0</td>\n",
              "      <td>6737.0</td>\n",
              "      <td>0.542</td>\n",
              "      <td>0.447</td>\n",
              "      <td>16938.0</td>\n",
              "      <td>9172.0</td>\n",
              "      <td>...</td>\n",
              "      <td>2.6</td>\n",
              "      <td>1.8</td>\n",
              "      <td>4.5</td>\n",
              "      <td>22.0</td>\n",
              "      <td>13837.0</td>\n",
              "      <td>74.6</td>\n",
              "      <td>18.1</td>\n",
              "      <td>7.1</td>\n",
              "      <td>0.2</td>\n",
              "      <td>5.4</td>\n",
              "    </tr>\n",
              "    <tr>\n",
              "      <th>3</th>\n",
              "      <td>3</td>\n",
              "      <td>0.479</td>\n",
              "      <td>0.387</td>\n",
              "      <td>195587.0</td>\n",
              "      <td>93748.0</td>\n",
              "      <td>75676.0</td>\n",
              "      <td>0.504</td>\n",
              "      <td>0.465</td>\n",
              "      <td>259389.0</td>\n",
              "      <td>130699.0</td>\n",
              "      <td>...</td>\n",
              "      <td>1.5</td>\n",
              "      <td>2.8</td>\n",
              "      <td>6.9</td>\n",
              "      <td>20.4</td>\n",
              "      <td>214984.0</td>\n",
              "      <td>78.3</td>\n",
              "      <td>15.0</td>\n",
              "      <td>6.6</td>\n",
              "      <td>0.1</td>\n",
              "      <td>4.3</td>\n",
              "    </tr>\n",
              "    <tr>\n",
              "      <th>4</th>\n",
              "      <td>4</td>\n",
              "      <td>0.653</td>\n",
              "      <td>0.300</td>\n",
              "      <td>3759.0</td>\n",
              "      <td>2456.0</td>\n",
              "      <td>1127.0</td>\n",
              "      <td>0.697</td>\n",
              "      <td>0.286</td>\n",
              "      <td>4183.0</td>\n",
              "      <td>2917.0</td>\n",
              "      <td>...</td>\n",
              "      <td>2.8</td>\n",
              "      <td>0.4</td>\n",
              "      <td>6.2</td>\n",
              "      <td>22.3</td>\n",
              "      <td>3680.0</td>\n",
              "      <td>73.8</td>\n",
              "      <td>15.3</td>\n",
              "      <td>10.4</td>\n",
              "      <td>0.5</td>\n",
              "      <td>3.0</td>\n",
              "    </tr>\n",
              "  </tbody>\n",
              "</table>\n",
              "<p>5 rows × 49 columns</p>\n",
              "</div>\n",
              "      <button class=\"colab-df-convert\" onclick=\"convertToInteractive('df-40fa95c9-1b9e-4157-96ea-8784febad5d3')\"\n",
              "              title=\"Convert this dataframe to an interactive table.\"\n",
              "              style=\"display:none;\">\n",
              "        \n",
              "  <svg xmlns=\"http://www.w3.org/2000/svg\" height=\"24px\"viewBox=\"0 0 24 24\"\n",
              "       width=\"24px\">\n",
              "    <path d=\"M0 0h24v24H0V0z\" fill=\"none\"/>\n",
              "    <path d=\"M18.56 5.44l.94 2.06.94-2.06 2.06-.94-2.06-.94-.94-2.06-.94 2.06-2.06.94zm-11 1L8.5 8.5l.94-2.06 2.06-.94-2.06-.94L8.5 2.5l-.94 2.06-2.06.94zm10 10l.94 2.06.94-2.06 2.06-.94-2.06-.94-.94-2.06-.94 2.06-2.06.94z\"/><path d=\"M17.41 7.96l-1.37-1.37c-.4-.4-.92-.59-1.43-.59-.52 0-1.04.2-1.43.59L10.3 9.45l-7.72 7.72c-.78.78-.78 2.05 0 2.83L4 21.41c.39.39.9.59 1.41.59.51 0 1.02-.2 1.41-.59l7.78-7.78 2.81-2.81c.8-.78.8-2.07 0-2.86zM5.41 20L4 18.59l7.72-7.72 1.47 1.35L5.41 20z\"/>\n",
              "  </svg>\n",
              "      </button>\n",
              "      \n",
              "  <style>\n",
              "    .colab-df-container {\n",
              "      display:flex;\n",
              "      flex-wrap:wrap;\n",
              "      gap: 12px;\n",
              "    }\n",
              "\n",
              "    .colab-df-convert {\n",
              "      background-color: #E8F0FE;\n",
              "      border: none;\n",
              "      border-radius: 50%;\n",
              "      cursor: pointer;\n",
              "      display: none;\n",
              "      fill: #1967D2;\n",
              "      height: 32px;\n",
              "      padding: 0 0 0 0;\n",
              "      width: 32px;\n",
              "    }\n",
              "\n",
              "    .colab-df-convert:hover {\n",
              "      background-color: #E2EBFA;\n",
              "      box-shadow: 0px 1px 2px rgba(60, 64, 67, 0.3), 0px 1px 3px 1px rgba(60, 64, 67, 0.15);\n",
              "      fill: #174EA6;\n",
              "    }\n",
              "\n",
              "    [theme=dark] .colab-df-convert {\n",
              "      background-color: #3B4455;\n",
              "      fill: #D2E3FC;\n",
              "    }\n",
              "\n",
              "    [theme=dark] .colab-df-convert:hover {\n",
              "      background-color: #434B5C;\n",
              "      box-shadow: 0px 1px 3px 1px rgba(0, 0, 0, 0.15);\n",
              "      filter: drop-shadow(0px 1px 2px rgba(0, 0, 0, 0.3));\n",
              "      fill: #FFFFFF;\n",
              "    }\n",
              "  </style>\n",
              "\n",
              "      <script>\n",
              "        const buttonEl =\n",
              "          document.querySelector('#df-40fa95c9-1b9e-4157-96ea-8784febad5d3 button.colab-df-convert');\n",
              "        buttonEl.style.display =\n",
              "          google.colab.kernel.accessAllowed ? 'block' : 'none';\n",
              "\n",
              "        async function convertToInteractive(key) {\n",
              "          const element = document.querySelector('#df-40fa95c9-1b9e-4157-96ea-8784febad5d3');\n",
              "          const dataTable =\n",
              "            await google.colab.kernel.invokeFunction('convertToInteractive',\n",
              "                                                     [key], {});\n",
              "          if (!dataTable) return;\n",
              "\n",
              "          const docLinkHtml = 'Like what you see? Visit the ' +\n",
              "            '<a target=\"_blank\" href=https://colab.research.google.com/notebooks/data_table.ipynb>data table notebook</a>'\n",
              "            + ' to learn more about interactive tables.';\n",
              "          element.innerHTML = '';\n",
              "          dataTable['output_type'] = 'display_data';\n",
              "          await google.colab.output.renderOutput(dataTable, element);\n",
              "          const docLink = document.createElement('div');\n",
              "          docLink.innerHTML = docLinkHtml;\n",
              "          element.appendChild(docLink);\n",
              "        }\n",
              "      </script>\n",
              "    </div>\n",
              "  </div>\n",
              "  "
            ]
          },
          "metadata": {},
          "execution_count": 17
        }
      ]
    },
    {
      "cell_type": "code",
      "source": [
        "X = data.drop('total_votes20', axis=1)\n",
        "y = data.loc[:, 'total_votes20']"
      ],
      "metadata": {
        "id": "mhQDOtJsnBq4"
      },
      "execution_count": 19,
      "outputs": []
    },
    {
      "cell_type": "code",
      "source": [
        "def scale(x):\n",
        "  scaled = (x - x.mean())/x.std()\n",
        "  return scaled"
      ],
      "metadata": {
        "id": "ccykuBu4nUuU"
      },
      "execution_count": 20,
      "outputs": []
    },
    {
      "cell_type": "code",
      "source": [
        "scale(X).head()"
      ],
      "metadata": {
        "colab": {
          "base_uri": "https://localhost:8080/",
          "height": 317
        },
        "id": "qfNSK_6ynWYO",
        "outputId": "6e457cd5-58b5-465f-9a62-644d6c621edd"
      },
      "execution_count": 21,
      "outputs": [
        {
          "output_type": "execute_result",
          "data": {
            "text/plain": [
              "   Unnamed: 0  percentage16_Donald_Trump  percentage16_Hillary_Clinton  \\\n",
              "0   -1.728835                  -0.057659                      0.238205   \n",
              "1   -1.728125                   1.096246                     -0.904390   \n",
              "2   -1.727415                  -0.730770                      0.907439   \n",
              "3   -1.726705                  -1.259643                      0.572822   \n",
              "4   -1.725995                   0.134659                     -0.137219   \n",
              "\n",
              "   total_votes16  votes16_Donald_Trump  votes16_Hillary_Clinton  \\\n",
              "0      -0.348808             -0.403027                -0.289558   \n",
              "1      -0.156311              0.057830                -0.254383   \n",
              "2      -0.290685             -0.344209                -0.234311   \n",
              "3       1.786924              2.378228                 1.024753   \n",
              "4      -0.429275             -0.540035                -0.336769   \n",
              "\n",
              "   percentage20_Donald_Trump  percentage20_Joe_Biden  votes20_Donald_Trump  \\\n",
              "0                   0.426589               -0.371381             -0.174006   \n",
              "1                   1.185744               -1.171336              0.160767   \n",
              "2                  -0.247585                0.301962             -0.151728   \n",
              "3                  -0.462868                0.405553              2.677278   \n",
              "4                   0.630541               -0.624605             -0.297337   \n",
              "\n",
              "   votes20_Joe_Biden  ...      Walk  OtherTransp  WorkAtHome  MeanCommute  \\\n",
              "0          -0.171909  ... -0.456216     0.145559    0.686645     0.539762   \n",
              "1          -0.153860  ... -0.519780     0.441577   -0.931808     0.937112   \n",
              "2          -0.125147  ... -0.201960     0.145559   -0.122582    -0.299087   \n",
              "3           1.394066  ... -0.551562     0.885603    0.848490    -0.652287   \n",
              "4          -0.210965  ... -0.138396    -0.890502    0.565261    -0.232862   \n",
              "\n",
              "   Employed  PrivateWork  PublicWork  SelfEmployed  FamilyWork  Unemployment  \n",
              "0 -0.303431     0.614685   -0.712123      0.013482   -0.502518      1.233624  \n",
              "1 -0.181217     0.812412   -0.950091     -0.050895    0.048586      1.030458  \n",
              "2 -0.269224    -0.077357    0.239748     -0.211837   -0.226966     -0.391706  \n",
              "3  1.319136     0.532299   -0.375002     -0.372778   -0.502518     -0.838672  \n",
              "4 -0.349428    -0.209174   -0.315510      0.850379    0.599689     -1.366905  \n",
              "\n",
              "[5 rows x 48 columns]"
            ],
            "text/html": [
              "\n",
              "  <div id=\"df-cf4aa818-dca6-4fc3-b51d-cb083bcba29e\">\n",
              "    <div class=\"colab-df-container\">\n",
              "      <div>\n",
              "<style scoped>\n",
              "    .dataframe tbody tr th:only-of-type {\n",
              "        vertical-align: middle;\n",
              "    }\n",
              "\n",
              "    .dataframe tbody tr th {\n",
              "        vertical-align: top;\n",
              "    }\n",
              "\n",
              "    .dataframe thead th {\n",
              "        text-align: right;\n",
              "    }\n",
              "</style>\n",
              "<table border=\"1\" class=\"dataframe\">\n",
              "  <thead>\n",
              "    <tr style=\"text-align: right;\">\n",
              "      <th></th>\n",
              "      <th>Unnamed: 0</th>\n",
              "      <th>percentage16_Donald_Trump</th>\n",
              "      <th>percentage16_Hillary_Clinton</th>\n",
              "      <th>total_votes16</th>\n",
              "      <th>votes16_Donald_Trump</th>\n",
              "      <th>votes16_Hillary_Clinton</th>\n",
              "      <th>percentage20_Donald_Trump</th>\n",
              "      <th>percentage20_Joe_Biden</th>\n",
              "      <th>votes20_Donald_Trump</th>\n",
              "      <th>votes20_Joe_Biden</th>\n",
              "      <th>...</th>\n",
              "      <th>Walk</th>\n",
              "      <th>OtherTransp</th>\n",
              "      <th>WorkAtHome</th>\n",
              "      <th>MeanCommute</th>\n",
              "      <th>Employed</th>\n",
              "      <th>PrivateWork</th>\n",
              "      <th>PublicWork</th>\n",
              "      <th>SelfEmployed</th>\n",
              "      <th>FamilyWork</th>\n",
              "      <th>Unemployment</th>\n",
              "    </tr>\n",
              "  </thead>\n",
              "  <tbody>\n",
              "    <tr>\n",
              "      <th>0</th>\n",
              "      <td>-1.728835</td>\n",
              "      <td>-0.057659</td>\n",
              "      <td>0.238205</td>\n",
              "      <td>-0.348808</td>\n",
              "      <td>-0.403027</td>\n",
              "      <td>-0.289558</td>\n",
              "      <td>0.426589</td>\n",
              "      <td>-0.371381</td>\n",
              "      <td>-0.174006</td>\n",
              "      <td>-0.171909</td>\n",
              "      <td>...</td>\n",
              "      <td>-0.456216</td>\n",
              "      <td>0.145559</td>\n",
              "      <td>0.686645</td>\n",
              "      <td>0.539762</td>\n",
              "      <td>-0.303431</td>\n",
              "      <td>0.614685</td>\n",
              "      <td>-0.712123</td>\n",
              "      <td>0.013482</td>\n",
              "      <td>-0.502518</td>\n",
              "      <td>1.233624</td>\n",
              "    </tr>\n",
              "    <tr>\n",
              "      <th>1</th>\n",
              "      <td>-1.728125</td>\n",
              "      <td>1.096246</td>\n",
              "      <td>-0.904390</td>\n",
              "      <td>-0.156311</td>\n",
              "      <td>0.057830</td>\n",
              "      <td>-0.254383</td>\n",
              "      <td>1.185744</td>\n",
              "      <td>-1.171336</td>\n",
              "      <td>0.160767</td>\n",
              "      <td>-0.153860</td>\n",
              "      <td>...</td>\n",
              "      <td>-0.519780</td>\n",
              "      <td>0.441577</td>\n",
              "      <td>-0.931808</td>\n",
              "      <td>0.937112</td>\n",
              "      <td>-0.181217</td>\n",
              "      <td>0.812412</td>\n",
              "      <td>-0.950091</td>\n",
              "      <td>-0.050895</td>\n",
              "      <td>0.048586</td>\n",
              "      <td>1.030458</td>\n",
              "    </tr>\n",
              "    <tr>\n",
              "      <th>2</th>\n",
              "      <td>-1.727415</td>\n",
              "      <td>-0.730770</td>\n",
              "      <td>0.907439</td>\n",
              "      <td>-0.290685</td>\n",
              "      <td>-0.344209</td>\n",
              "      <td>-0.234311</td>\n",
              "      <td>-0.247585</td>\n",
              "      <td>0.301962</td>\n",
              "      <td>-0.151728</td>\n",
              "      <td>-0.125147</td>\n",
              "      <td>...</td>\n",
              "      <td>-0.201960</td>\n",
              "      <td>0.145559</td>\n",
              "      <td>-0.122582</td>\n",
              "      <td>-0.299087</td>\n",
              "      <td>-0.269224</td>\n",
              "      <td>-0.077357</td>\n",
              "      <td>0.239748</td>\n",
              "      <td>-0.211837</td>\n",
              "      <td>-0.226966</td>\n",
              "      <td>-0.391706</td>\n",
              "    </tr>\n",
              "    <tr>\n",
              "      <th>3</th>\n",
              "      <td>-1.726705</td>\n",
              "      <td>-1.259643</td>\n",
              "      <td>0.572822</td>\n",
              "      <td>1.786924</td>\n",
              "      <td>2.378228</td>\n",
              "      <td>1.024753</td>\n",
              "      <td>-0.462868</td>\n",
              "      <td>0.405553</td>\n",
              "      <td>2.677278</td>\n",
              "      <td>1.394066</td>\n",
              "      <td>...</td>\n",
              "      <td>-0.551562</td>\n",
              "      <td>0.885603</td>\n",
              "      <td>0.848490</td>\n",
              "      <td>-0.652287</td>\n",
              "      <td>1.319136</td>\n",
              "      <td>0.532299</td>\n",
              "      <td>-0.375002</td>\n",
              "      <td>-0.372778</td>\n",
              "      <td>-0.502518</td>\n",
              "      <td>-0.838672</td>\n",
              "    </tr>\n",
              "    <tr>\n",
              "      <th>4</th>\n",
              "      <td>-1.725995</td>\n",
              "      <td>0.134659</td>\n",
              "      <td>-0.137219</td>\n",
              "      <td>-0.429275</td>\n",
              "      <td>-0.540035</td>\n",
              "      <td>-0.336769</td>\n",
              "      <td>0.630541</td>\n",
              "      <td>-0.624605</td>\n",
              "      <td>-0.297337</td>\n",
              "      <td>-0.210965</td>\n",
              "      <td>...</td>\n",
              "      <td>-0.138396</td>\n",
              "      <td>-0.890502</td>\n",
              "      <td>0.565261</td>\n",
              "      <td>-0.232862</td>\n",
              "      <td>-0.349428</td>\n",
              "      <td>-0.209174</td>\n",
              "      <td>-0.315510</td>\n",
              "      <td>0.850379</td>\n",
              "      <td>0.599689</td>\n",
              "      <td>-1.366905</td>\n",
              "    </tr>\n",
              "  </tbody>\n",
              "</table>\n",
              "<p>5 rows × 48 columns</p>\n",
              "</div>\n",
              "      <button class=\"colab-df-convert\" onclick=\"convertToInteractive('df-cf4aa818-dca6-4fc3-b51d-cb083bcba29e')\"\n",
              "              title=\"Convert this dataframe to an interactive table.\"\n",
              "              style=\"display:none;\">\n",
              "        \n",
              "  <svg xmlns=\"http://www.w3.org/2000/svg\" height=\"24px\"viewBox=\"0 0 24 24\"\n",
              "       width=\"24px\">\n",
              "    <path d=\"M0 0h24v24H0V0z\" fill=\"none\"/>\n",
              "    <path d=\"M18.56 5.44l.94 2.06.94-2.06 2.06-.94-2.06-.94-.94-2.06-.94 2.06-2.06.94zm-11 1L8.5 8.5l.94-2.06 2.06-.94-2.06-.94L8.5 2.5l-.94 2.06-2.06.94zm10 10l.94 2.06.94-2.06 2.06-.94-2.06-.94-.94-2.06-.94 2.06-2.06.94z\"/><path d=\"M17.41 7.96l-1.37-1.37c-.4-.4-.92-.59-1.43-.59-.52 0-1.04.2-1.43.59L10.3 9.45l-7.72 7.72c-.78.78-.78 2.05 0 2.83L4 21.41c.39.39.9.59 1.41.59.51 0 1.02-.2 1.41-.59l7.78-7.78 2.81-2.81c.8-.78.8-2.07 0-2.86zM5.41 20L4 18.59l7.72-7.72 1.47 1.35L5.41 20z\"/>\n",
              "  </svg>\n",
              "      </button>\n",
              "      \n",
              "  <style>\n",
              "    .colab-df-container {\n",
              "      display:flex;\n",
              "      flex-wrap:wrap;\n",
              "      gap: 12px;\n",
              "    }\n",
              "\n",
              "    .colab-df-convert {\n",
              "      background-color: #E8F0FE;\n",
              "      border: none;\n",
              "      border-radius: 50%;\n",
              "      cursor: pointer;\n",
              "      display: none;\n",
              "      fill: #1967D2;\n",
              "      height: 32px;\n",
              "      padding: 0 0 0 0;\n",
              "      width: 32px;\n",
              "    }\n",
              "\n",
              "    .colab-df-convert:hover {\n",
              "      background-color: #E2EBFA;\n",
              "      box-shadow: 0px 1px 2px rgba(60, 64, 67, 0.3), 0px 1px 3px 1px rgba(60, 64, 67, 0.15);\n",
              "      fill: #174EA6;\n",
              "    }\n",
              "\n",
              "    [theme=dark] .colab-df-convert {\n",
              "      background-color: #3B4455;\n",
              "      fill: #D2E3FC;\n",
              "    }\n",
              "\n",
              "    [theme=dark] .colab-df-convert:hover {\n",
              "      background-color: #434B5C;\n",
              "      box-shadow: 0px 1px 3px 1px rgba(0, 0, 0, 0.15);\n",
              "      filter: drop-shadow(0px 1px 2px rgba(0, 0, 0, 0.3));\n",
              "      fill: #FFFFFF;\n",
              "    }\n",
              "  </style>\n",
              "\n",
              "      <script>\n",
              "        const buttonEl =\n",
              "          document.querySelector('#df-cf4aa818-dca6-4fc3-b51d-cb083bcba29e button.colab-df-convert');\n",
              "        buttonEl.style.display =\n",
              "          google.colab.kernel.accessAllowed ? 'block' : 'none';\n",
              "\n",
              "        async function convertToInteractive(key) {\n",
              "          const element = document.querySelector('#df-cf4aa818-dca6-4fc3-b51d-cb083bcba29e');\n",
              "          const dataTable =\n",
              "            await google.colab.kernel.invokeFunction('convertToInteractive',\n",
              "                                                     [key], {});\n",
              "          if (!dataTable) return;\n",
              "\n",
              "          const docLinkHtml = 'Like what you see? Visit the ' +\n",
              "            '<a target=\"_blank\" href=https://colab.research.google.com/notebooks/data_table.ipynb>data table notebook</a>'\n",
              "            + ' to learn more about interactive tables.';\n",
              "          element.innerHTML = '';\n",
              "          dataTable['output_type'] = 'display_data';\n",
              "          await google.colab.output.renderOutput(dataTable, element);\n",
              "          const docLink = document.createElement('div');\n",
              "          docLink.innerHTML = docLinkHtml;\n",
              "          element.appendChild(docLink);\n",
              "        }\n",
              "      </script>\n",
              "    </div>\n",
              "  </div>\n",
              "  "
            ]
          },
          "metadata": {},
          "execution_count": 21
        }
      ]
    },
    {
      "cell_type": "code",
      "source": [
        "X_train,X_test,y_train,y_test = train_test_split(scale(X), y, test_size=0.3, random_state=42)"
      ],
      "metadata": {
        "id": "psfllMWkns6O"
      },
      "execution_count": 22,
      "outputs": []
    },
    {
      "cell_type": "code",
      "source": [
        "print(X_train.shape)\n",
        "print(X_test.shape)\n",
        "print(y_train.shape)\n",
        "print(y_test.shape)"
      ],
      "metadata": {
        "colab": {
          "base_uri": "https://localhost:8080/"
        },
        "id": "g1eJ5Ui-n5Po",
        "outputId": "e325a1ed-cadc-4074-f4a4-91aa8cbbbb44"
      },
      "execution_count": 23,
      "outputs": [
        {
          "output_type": "stream",
          "name": "stdout",
          "text": [
            "(3406, 48)\n",
            "(1461, 48)\n",
            "(3406,)\n",
            "(1461,)\n"
          ]
        }
      ]
    },
    {
      "cell_type": "code",
      "source": [
        "# Training the Model\n",
        "model  = LinearRegression()\n",
        "model.fit(scale(X), y)"
      ],
      "metadata": {
        "id": "GKeo0OH3MoiY",
        "colab": {
          "base_uri": "https://localhost:8080/"
        },
        "outputId": "3cac3137-060b-4ce1-ba86-c408798854ef"
      },
      "execution_count": 28,
      "outputs": [
        {
          "output_type": "execute_result",
          "data": {
            "text/plain": [
              "LinearRegression()"
            ]
          },
          "metadata": {},
          "execution_count": 28
        }
      ]
    },
    {
      "cell_type": "code",
      "source": [
        "y_preds = model.predict(X_test)\n",
        "\n",
        "# Measuring the accuracy of the model\n",
        "print('the LinearRegression R score is:',round(r2_score(y_preds,y_test)*100,3),'%')"
      ],
      "metadata": {
        "id": "NumiJmM7M83f",
        "colab": {
          "base_uri": "https://localhost:8080/"
        },
        "outputId": "a0db85a0-76a9-4ed3-d40d-33037b18aab3"
      },
      "execution_count": 29,
      "outputs": [
        {
          "output_type": "stream",
          "name": "stdout",
          "text": [
            "the LinearRegression R score is: 99.999 %\n"
          ]
        }
      ]
    },
    {
      "cell_type": "code",
      "source": [
        "# Training the model\n",
        "ridge = Ridge()\n",
        "ridge.fit(scale(X), y)\n",
        "\n",
        "# Making predictions\n",
        "y_preds = ridge.predict(X_test)\n",
        "\n",
        "print('the RidgeRegression R score is:',round(r2_score(y_preds,y_test)*100,3),'%')\n"
      ],
      "metadata": {
        "colab": {
          "base_uri": "https://localhost:8080/"
        },
        "id": "lpU6owS4503I",
        "outputId": "c5b36cfc-05d3-406a-f70a-b82f81bce1a6"
      },
      "execution_count": 30,
      "outputs": [
        {
          "output_type": "stream",
          "name": "stdout",
          "text": [
            "the RidgeRegression R score is: 99.999 %\n"
          ]
        }
      ]
    },
    {
      "cell_type": "markdown",
      "source": [
        "##Hyperparameter tuning to find the optimal parameters for the model:"
      ],
      "metadata": {
        "id": "5jqH0-Qpo7zI"
      }
    },
    {
      "cell_type": "code",
      "source": [
        "# Tuning the alpha parameter\n",
        "# Creating a parameters dictionary\n",
        "params = {'alpha': np.logspace(-5, 2, 8)}     \n",
        "\n",
        "# Creating a cross validation of 10 folds\n",
        "kfold = KFold(n_splits = 10)\n",
        "\n",
        "# Using grid search to find the optimal parameters\n",
        "grid_search = GridSearchCV(estimator=Ridge(normalize = False), param_grid = params, cv = kfold, scoring = 'neg_mean_squared_error')\n",
        "\n",
        "# Fitting the grid search \n",
        "grid_search_results = grid_search.fit(scale(X), y)\n",
        "\n",
        "# Displaying the best parameters and the the best score\n",
        "print(f'Best score is {grid_search.best_score_*-1} and the best parameters are {grid_search.best_params_}')"
      ],
      "metadata": {
        "id": "dtkzQHmZpAEo",
        "colab": {
          "base_uri": "https://localhost:8080/"
        },
        "outputId": "9ba28f5a-e377-480b-9436-d36f1b221708"
      },
      "execution_count": 31,
      "outputs": [
        {
          "output_type": "stream",
          "name": "stdout",
          "text": [
            "Best score is 153890.40746815148 and the best parameters are {'alpha': 0.01}\n"
          ]
        }
      ]
    },
    {
      "cell_type": "markdown",
      "source": [
        "##Training the model with optimal parameters:"
      ],
      "metadata": {
        "id": "goeuN-JTqDc2"
      }
    },
    {
      "cell_type": "code",
      "source": [
        "# Training the model with the optimal alpha value\n",
        "ridge = Ridge(normalize=False, alpha = 0.01)       \n",
        "ridge.fit(scale(X), y)\n",
        "\n",
        "# Making predictions\n",
        "y_preds = ridge.predict(X_test)\n",
        "\n",
        "# Measuring the accuracy of the model\n",
        "print('the TuneRidgeRegression R score is:',round(r2_score(y_preds,y_test)*100,3),'%')"
      ],
      "metadata": {
        "id": "CAxzktG5p9KA",
        "colab": {
          "base_uri": "https://localhost:8080/"
        },
        "outputId": "5faf4456-2637-431c-cb0a-d7cce0d01b28"
      },
      "execution_count": 32,
      "outputs": [
        {
          "output_type": "stream",
          "name": "stdout",
          "text": [
            "the TuneRidgeRegression R score is: 99.999 %\n"
          ]
        }
      ]
    },
    {
      "cell_type": "markdown",
      "source": [
        "##Performing cross validation to check for overfitting or underfitting:"
      ],
      "metadata": {
        "id": "Q-WFxkXrq7qi"
      }
    },
    {
      "cell_type": "code",
      "source": [
        "# Performing cross validation of ten folds\n",
        "scores = cross_val_score(ridge, scale(X), y, scoring = 'neg_mean_squared_error', cv = 10)\n",
        "\n",
        "# Calculating the mean of the cross validation scores\n",
        "print(f'Mean of cross validation scores is {np.round(scores.mean()*-1, 3)}')\n",
        "\n",
        "# Calculating the variance of the cross validation scores from the mean\n",
        "print(f'Standard deviation of the cross validation scores is {np.round(scores.std(), 3)}')"
      ],
      "metadata": {
        "id": "c2o3_fNGq_mE",
        "colab": {
          "base_uri": "https://localhost:8080/"
        },
        "outputId": "fd75d5b0-646c-4b10-f25b-74a44c8910cd"
      },
      "execution_count": 33,
      "outputs": [
        {
          "output_type": "stream",
          "name": "stdout",
          "text": [
            "Mean of cross validation scores is 153890.407\n",
            "Standard deviation of the cross validation scores is 119205.99\n"
          ]
        }
      ]
    },
    {
      "cell_type": "markdown",
      "source": [
        "##Lasso Regresion:"
      ],
      "metadata": {
        "id": "6As9KsourlGT"
      }
    },
    {
      "cell_type": "code",
      "source": [
        "# Training the model\n",
        "lasso = Lasso(normalize=False)\n",
        "lasso.fit(scale(X), y)\n",
        "\n",
        "# Making predictions\n",
        "y_pred = lasso.predict(X_test)\n",
        "\n",
        "# Measuring the accuracy of the model\n",
        "print(f'RMSE of Lasso: {np.sqrt(mean_squared_error(y_test, y_pred))}')\n",
        "print(f'mean_absolute_error of Lasso: {np.sqrt(mean_absolute_error(y_test, y_pred))}')\n",
        "print(f'r2_score of Lasso: {np.sqrt(r2_score(y_test, y_pred))}')\n"
      ],
      "metadata": {
        "id": "dJrgiq56rksj",
        "colab": {
          "base_uri": "https://localhost:8080/"
        },
        "outputId": "b2f0609e-c494-48d5-a18b-b8321c552486"
      },
      "execution_count": 34,
      "outputs": [
        {
          "output_type": "stream",
          "name": "stdout",
          "text": [
            "RMSE of Lasso: 478.7558858096787\n",
            "mean_absolute_error of Lasso: 13.320583091551024\n",
            "r2_score of Lasso: 0.9999915633912762\n"
          ]
        }
      ]
    },
    {
      "cell_type": "markdown",
      "source": [
        "##Hyperparameter tuning to find the optimal parameters for the model:"
      ],
      "metadata": {
        "id": "9cG7DP72sPZy"
      }
    },
    {
      "cell_type": "code",
      "source": [
        "# Tuning the alpha parameter\n",
        "# Creating a parameters dictionary\n",
        "params = {'alpha': np.logspace(-6, 2, 8)}\n",
        "\n",
        "# Creating a cross validation of 10 folds\n",
        "kfold = KFold(n_splits = 5)\n",
        "\n",
        "# Using grid search to find the optimal parameters\n",
        "grid_search = GridSearchCV(estimator=Lasso(normalize = False), param_grid = params, cv = kfold, scoring = 'neg_mean_squared_error')\n",
        "\n",
        "# Fitting the grid search \n",
        "grid_search_results = grid_search.fit(scale(X), y)\n",
        "\n",
        "# Displaying the best parameters and the the best score\n",
        "print(f'Best score is {grid_search.best_score_*-1} and the best parameters are {grid_search.best_params_}')"
      ],
      "metadata": {
        "id": "YWn6wYvgsRbD",
        "colab": {
          "base_uri": "https://localhost:8080/"
        },
        "outputId": "f4c05051-bc6e-418f-b593-b34159c888bb"
      },
      "execution_count": 39,
      "outputs": [
        {
          "output_type": "stream",
          "name": "stdout",
          "text": [
            "Best score is 267160.7340226098 and the best parameters are {'alpha': 1e-06}\n"
          ]
        }
      ]
    },
    {
      "cell_type": "markdown",
      "source": [
        "##Training the model with optimal parameters:\n",
        "\n"
      ],
      "metadata": {
        "id": "RxH2116Ssh5U"
      }
    },
    {
      "cell_type": "code",
      "source": [
        "# Training the model with the optimal alpha value\n",
        "lasso = Lasso(normalize=False, alpha = 1e-06)\n",
        "lasso.fit(X_train, y_train)\n",
        "\n",
        "# Making predictions\n",
        "y_pred = lasso.predict(X_test)\n",
        "\n",
        "# Measuring the accuracy of the model\n",
        "print(f'RMSE of Lasso: {np.sqrt(mean_squared_error(y_test, y_pred))}')"
      ],
      "metadata": {
        "id": "U0VWnrnmsobT",
        "colab": {
          "base_uri": "https://localhost:8080/"
        },
        "outputId": "5d063719-98c9-4190-875a-b536b2f4e607"
      },
      "execution_count": 40,
      "outputs": [
        {
          "output_type": "stream",
          "name": "stdout",
          "text": [
            "RMSE of Lasso: 665.3183460723444\n"
          ]
        }
      ]
    },
    {
      "cell_type": "markdown",
      "source": [
        "##Performing cross validation to check for overfitting or underfitting:"
      ],
      "metadata": {
        "id": "JMmVqf-6tC9h"
      }
    },
    {
      "cell_type": "code",
      "source": [
        "# Performing cross validation of ten folds\n",
        "scores = cross_val_score(lasso,scale(X), y, scoring = 'neg_mean_squared_error', cv = 10)\n",
        "\n",
        "# Calculating the mean of the cross validation scores\n",
        "print(f'Mean of cross validation scores is {np.round(scores.mean()*-1, 3)}')\n",
        "\n",
        "# Calculating the variance of the cross validation scores from the mean\n",
        "print(f'Standard deviation of the cross validation scores is {np.round(scores.std(), 3)}')"
      ],
      "metadata": {
        "id": "vNGn5bDhtFxu",
        "colab": {
          "base_uri": "https://localhost:8080/"
        },
        "outputId": "641701ce-02c0-414e-8929-b51dc1efb88e"
      },
      "execution_count": 41,
      "outputs": [
        {
          "output_type": "stream",
          "name": "stdout",
          "text": [
            "Mean of cross validation scores is 281488.363\n",
            "Standard deviation of the cross validation scores is 193160.127\n"
          ]
        }
      ]
    },
    {
      "cell_type": "markdown",
      "source": [
        "##Elastic Net"
      ],
      "metadata": {
        "id": "KQtMQrKCtZBo"
      }
    },
    {
      "cell_type": "code",
      "source": [
        "# Training the model\n",
        "elastic = ElasticNet(normalize=False)\n",
        "elastic.fit(scale(X), y)\n",
        "\n",
        "# Making predictions\n",
        "y_preds = elastic.predict(X_test)\n",
        "\n",
        "# Measuring the accuracy of the model\n",
        "print(f'RMSE of ElasticNet: {np.sqrt(mean_squared_error(y_test, y_pred))}')\n",
        "print('the ElasticRegression R score is:',round(r2_score(y_preds,y_test)*100,3),'%')"
      ],
      "metadata": {
        "id": "rrOMTKYythFx",
        "colab": {
          "base_uri": "https://localhost:8080/"
        },
        "outputId": "21da5109-a85a-4f69-ffca-d50599f3c692"
      },
      "execution_count": 42,
      "outputs": [
        {
          "output_type": "stream",
          "name": "stdout",
          "text": [
            "RMSE of ElasticNet: 665.3183460723444\n",
            "the ElasticRegression R score is: 93.077 %\n"
          ]
        }
      ]
    },
    {
      "cell_type": "markdown",
      "source": [
        "##Hyperparameter tuning to find the optimal parameters for the model"
      ],
      "metadata": {
        "id": "PfHjn0w0to5B"
      }
    },
    {
      "cell_type": "code",
      "source": [
        "# Tuning the alpha parameter\n",
        "# Creating a parameters dictionary\n",
        "params = {'alpha': np.logspace(-5, 2, 8),\n",
        "         'l1_ratio':[.2,.4,.6,.8]}\n",
        "\n",
        "# Creating a cross validation of 10 folds\n",
        "kfold = KFold(n_splits = 10)\n",
        "\n",
        "# Using grid search to find the optimal parameters\n",
        "grid_search = GridSearchCV(estimator=ElasticNet(normalize = False), param_grid = params, cv = kfold, scoring = 'neg_mean_squared_error')\n",
        "\n",
        "# Fitting the grid search \n",
        "grid_search_results = grid_search.fit(scale(X), y)\n",
        "\n",
        "# Displaying the best parameters and the the best score\n",
        "print(f'Best score is {grid_search.best_score_*-1} and the best parameters are {grid_search.best_params_}')"
      ],
      "metadata": {
        "id": "e_nsJl8vt0Rx",
        "colab": {
          "base_uri": "https://localhost:8080/"
        },
        "outputId": "c90f3958-68ed-40b4-fdc6-9512a43b72e9"
      },
      "execution_count": 43,
      "outputs": [
        {
          "output_type": "stream",
          "name": "stdout",
          "text": [
            "Best score is 281790.38279877073 and the best parameters are {'alpha': 1e-05, 'l1_ratio': 0.8}\n"
          ]
        }
      ]
    },
    {
      "cell_type": "markdown",
      "source": [
        "##Training the model with optimal parameters"
      ],
      "metadata": {
        "id": "pdFdg3nIuNCM"
      }
    },
    {
      "cell_type": "code",
      "source": [
        "# Training the model with the optimal alpha value\n",
        "elastic = ElasticNet(normalize=False, alpha =  1e-05, l1_ratio = 0.8)\n",
        "elastic.fit(scale(X), y)\n",
        "\n",
        "# Making predictions\n",
        "y_pred = elastic.predict(X_test)\n",
        "\n",
        "# Measuring the accuracy of the model\n",
        "print(f'RMSE of ElasticNet: {np.sqrt(mean_squared_error(y_test, y_pred))}')\n",
        "print('the OptimalElasticRegression R score is:',round(r2_score(y_pred,y_test)*100,3),'%')"
      ],
      "metadata": {
        "id": "THzn9951uOxW",
        "colab": {
          "base_uri": "https://localhost:8080/"
        },
        "outputId": "e75c7049-3ff1-4baf-f4e7-a941a271125d"
      },
      "execution_count": 44,
      "outputs": [
        {
          "output_type": "stream",
          "name": "stdout",
          "text": [
            "RMSE of ElasticNet: 468.12298428065645\n",
            "the OptimalElasticRegression R score is: 99.998 %\n"
          ]
        }
      ]
    },
    {
      "cell_type": "markdown",
      "source": [
        "##Performing cross validation to check for overfitting or underfitting"
      ],
      "metadata": {
        "id": "CRKk4IKxu2WT"
      }
    },
    {
      "cell_type": "code",
      "source": [
        "# Performing cross validation of ten folds\n",
        "scores = cross_val_score(elastic, scale(X), y, scoring = 'neg_mean_squared_error', cv = 10)\n",
        "\n",
        "# Calculating the mean of the cross validation scores\n",
        "print(f'Mean of cross validation scores is {np.round(scores.mean()*-1, 3)}')\n",
        "\n",
        "# Calculating the variance of the cross validation scores from the mean\n",
        "print(f'Standard deviation of the cross validation scores is {np.round(scores.std(), 3)}')"
      ],
      "metadata": {
        "id": "aETsOjZau4J3",
        "colab": {
          "base_uri": "https://localhost:8080/"
        },
        "outputId": "141130e3-07c0-4fcb-bb27-59b380c1be98"
      },
      "execution_count": 46,
      "outputs": [
        {
          "output_type": "stream",
          "name": "stdout",
          "text": [
            "Mean of cross validation scores is 281790.383\n",
            "Standard deviation of the cross validation scores is 193362.659\n"
          ]
        }
      ]
    },
    {
      "cell_type": "markdown",
      "source": [
        "##RandomForestRegressor"
      ],
      "metadata": {
        "id": "KWFPaXN6vp9Q"
      }
    },
    {
      "cell_type": "code",
      "source": [
        "# Using RandomForestRegressor to make predictions\n",
        "RF = RandomForestRegressor(n_estimators= 500) \n",
        "\n",
        "RF.fit(scale(X), y)\n",
        "\n",
        "# Making predictions\n",
        "y_pred = RF.predict(X_test)\n",
        "\n",
        "# Measuring the accuracy of the model\n",
        "print(f'RMSE of RandomForestRegressor: {np.sqrt(mean_squared_error(y_test, y_pred))}')\n",
        "print('the RandomForest R score is:',round(r2_score(y_pred,y_test)*100,3),'%')"
      ],
      "metadata": {
        "id": "ZsoV92N7vrrM",
        "colab": {
          "base_uri": "https://localhost:8080/"
        },
        "outputId": "86631c53-4529-4ee1-f987-8c0b5c0ea91c"
      },
      "execution_count": 48,
      "outputs": [
        {
          "output_type": "stream",
          "name": "stdout",
          "text": [
            "RMSE of RandomForestRegressor: 7527.743429252081\n",
            "the RandomForest R score is: 99.583 %\n"
          ]
        }
      ]
    },
    {
      "cell_type": "markdown",
      "source": [
        "##DecisionTreeRegressor"
      ],
      "metadata": {
        "id": "jSPy3YWCwW41"
      }
    },
    {
      "cell_type": "code",
      "source": [
        "# Using DecisionTreeRegressor to make predictions\n",
        "from sklearn.tree import DecisionTreeRegressor\n",
        "DT = DecisionTreeRegressor()\n",
        "DT.fit(scale(X), y)\n",
        "\n",
        "# Making predictions\n",
        "y_pred = DT.predict(X_test)\n",
        "\n",
        "# Measuring the accuracy of the model\n",
        "print(f'RMSE of DecisionTreeRegressor: {np.sqrt(mean_squared_error(y_test, y_pred))}')\n",
        "print('the DecisionTreeRegressor R score is:',round(r2_score(y_pred,y_test)*100,3),'%')"
      ],
      "metadata": {
        "id": "ko2L8P12wYeZ",
        "colab": {
          "base_uri": "https://localhost:8080/"
        },
        "outputId": "5df9709f-6c55-4ccc-cc4c-4b69d6ecea87"
      },
      "execution_count": 50,
      "outputs": [
        {
          "output_type": "stream",
          "name": "stdout",
          "text": [
            "RMSE of DecisionTreeRegressor: 2.8707073955992836e-11\n",
            "the DecisionTreeRegressor R score is: 100.0 %\n"
          ]
        }
      ]
    },
    {
      "cell_type": "markdown",
      "source": [
        "##XGBRegressor (with GridsearchCV)"
      ],
      "metadata": {
        "id": "WnFsGTqpwmE_"
      }
    },
    {
      "cell_type": "code",
      "source": [
        "from sklearn.metrics import mean_squared_error\n",
        "from xgboost.sklearn import XGBRegressor\n",
        "from sklearn.model_selection import GridSearchCV"
      ],
      "metadata": {
        "id": "ajksnqorwnmz"
      },
      "execution_count": null,
      "outputs": []
    },
    {
      "cell_type": "code",
      "source": [
        "def evaluate(model, test_features):\n",
        "    \n",
        "    from sklearn.metrics import mean_squared_error\n",
        "    predictions = model.predict(test_features)\n",
        "    rmse = np.sqrt(mean_squared_error(scale(X) , predictions ))\n",
        "    print('Model Performance')\n",
        "    print('rmse = {:0.4f}.'.format(rmse))"
      ],
      "metadata": {
        "id": "QlrpynRrwy45"
      },
      "execution_count": 51,
      "outputs": []
    },
    {
      "cell_type": "code",
      "source": [
        "\"\"\"%%time\n",
        "xgb_model = XGBRegressor()\n",
        "parameters = {'objective':['reg:squarederror'],\n",
        "              'learning_rate': [0.025],  # So called `eta` value\n",
        "              'max_depth': [13,14],\n",
        "              'min_child_weight': [4,5],\n",
        "              'subsample': [0.8,0.9],\n",
        "              'colsample_bytree': [0.6,0.7],\n",
        "              'n_estimators': [400,500],\n",
        "              'silent':[1],\n",
        "              'nthread': [4]}\n",
        "\n",
        "xgb_grid = GridSearchCV(xgb_model,parameters,cv =5,verbose=True,scoring='neg_mean_squared_error')\n",
        "xgb_grid.fit(scle(X),y)\n",
        "print(xgb_grid.best_params_)\"\"\""
      ],
      "metadata": {
        "id": "VmoiX_cixFXi",
        "colab": {
          "base_uri": "https://localhost:8080/",
          "height": 122
        },
        "outputId": "17beb285-ee34-4177-b919-8b7c4b2b4e96"
      },
      "execution_count": 52,
      "outputs": [
        {
          "output_type": "execute_result",
          "data": {
            "text/plain": [
              "\"%%time\\nxgb_model = XGBRegressor()\\nparameters = {'objective':['reg:squarederror'],\\n              'learning_rate': [0.025],  # So called `eta` value\\n              'max_depth': [13,14],\\n              'min_child_weight': [4,5],\\n              'subsample': [0.8,0.9],\\n              'colsample_bytree': [0.6,0.7],\\n              'n_estimators': [400,500],\\n              'silent':[1],\\n              'nthread': [4]}\\n\\nxgb_grid = GridSearchCV(xgb_model,parameters,cv =5,verbose=True,scoring='neg_mean_squared_error')\\nxgb_grid.fit(scle(X),y)\\nprint(xgb_grid.best_params_)\""
            ],
            "application/vnd.google.colaboratory.intrinsic+json": {
              "type": "string"
            }
          },
          "metadata": {},
          "execution_count": 52
        }
      ]
    },
    {
      "cell_type": "code",
      "source": [
        "%%time\n",
        "param= {'colsample_bytree': 0.7, 'learning_rate': 0.025, 'max_depth': 13,\n",
        "        'min_child_weight': 4, 'n_estimators': 400, 'nthread': 4,\n",
        "        'objective': 'reg:squarederror', 'silent': 1, 'subsample': 0.9}\n",
        "xgb_other = XGBRegressor(**param)\n",
        "xgb_other.fit(scale(X),y)\n",
        "pred = xgb_other.predict(X_test)"
      ],
      "metadata": {
        "id": "DjCwHuTexs7D",
        "colab": {
          "base_uri": "https://localhost:8080/"
        },
        "outputId": "1c3f4a95-4a43-4978-f603-5e477678a240"
      },
      "execution_count": 53,
      "outputs": [
        {
          "output_type": "stream",
          "name": "stdout",
          "text": [
            "CPU times: user 19.9 s, sys: 784 ms, total: 20.6 s\n",
            "Wall time: 11 s\n"
          ]
        }
      ]
    },
    {
      "cell_type": "markdown",
      "source": [
        "##Features Importance"
      ],
      "metadata": {
        "id": "KmK4nepcyany"
      }
    },
    {
      "cell_type": "code",
      "source": [
        "import seaborn as sn\n",
        "import seaborn as sns\n",
        "feature_importance_df = pd.DataFrame(xgb_other.feature_importances_, columns=['importance'])\n",
        "feature_importance_df['feature'] = scale(X).columns\n",
        "\n",
        "plt.figure(figsize=(20, 12));\n",
        "sns.barplot(x=\"importance\", y=\"feature\", data=feature_importance_df.sort_values(by = ['importance'], ascending = False).head(40))\n",
        "plt.title('LGBMClassifier features importance (top 20):');"
      ],
      "metadata": {
        "id": "zA2u7iRlxc6a",
        "colab": {
          "base_uri": "https://localhost:8080/",
          "height": 488
        },
        "outputId": "3ab0fe00-7c7e-4a49-d877-3a11d548531b"
      },
      "execution_count": 54,
      "outputs": [
        {
          "output_type": "display_data",
          "data": {
            "text/plain": [
              "<Figure size 1440x864 with 1 Axes>"
            ],
            "image/png": "[encoded data removed]"
          },
          "metadata": {
            "needs_background": "light"
          }
        }
      ]
    },
    {
      "cell_type": "markdown",
      "source": [
        "##It is clear from the results below that the data overfit for all the models except the elastic Net.I need to still work on the feature by dropping most feature that do not contribute to 2020 total vote viewing the order of feature importance.It can be seen from the model results that,the features data are highly correlated which contribute to overfitting of the model"
      ],
      "metadata": {
        "id": "6TcsCFKRLsgd"
      }
    },
    {
      "cell_type": "code",
      "source": [
        "data = [['LinearRegression',99.99],['RidgeRegression',99.99],['LasoRegression',99.99],['ElasticNet',93.08],['RandomForestRegression',99.58],['DecisionTreeRegression',100]]\n",
        "SummaryResults = pd.DataFrame(data,columns=['Model','R-Score Percentage'])\n",
        "SummaryResults\n"
      ],
      "metadata": {
        "colab": {
          "base_uri": "https://localhost:8080/",
          "height": 237
        },
        "id": "-wDOQl4ZG0ns",
        "outputId": "f0bb9da0-6e3d-4973-bfab-c71750c8a1c3"
      },
      "execution_count": 65,
      "outputs": [
        {
          "output_type": "execute_result",
          "data": {
            "text/plain": [
              "                    Model  R-Score Percentage\n",
              "0        LinearRegression               99.99\n",
              "1         RidgeRegression               99.99\n",
              "2          LasoRegression               99.99\n",
              "3              ElasticNet               93.08\n",
              "4  RandomForestRegression               99.58\n",
              "5  DecisionTreeRegression              100.00"
            ],
            "text/html": [
              "\n",
              "  <div id=\"df-25f63032-7f8c-4770-8ba3-d4d8140cea36\">\n",
              "    <div class=\"colab-df-container\">\n",
              "      <div>\n",
              "<style scoped>\n",
              "    .dataframe tbody tr th:only-of-type {\n",
              "        vertical-align: middle;\n",
              "    }\n",
              "\n",
              "    .dataframe tbody tr th {\n",
              "        vertical-align: top;\n",
              "    }\n",
              "\n",
              "    .dataframe thead th {\n",
              "        text-align: right;\n",
              "    }\n",
              "</style>\n",
              "<table border=\"1\" class=\"dataframe\">\n",
              "  <thead>\n",
              "    <tr style=\"text-align: right;\">\n",
              "      <th></th>\n",
              "      <th>Model</th>\n",
              "      <th>R-Score Percentage</th>\n",
              "    </tr>\n",
              "  </thead>\n",
              "  <tbody>\n",
              "    <tr>\n",
              "      <th>0</th>\n",
              "      <td>LinearRegression</td>\n",
              "      <td>99.99</td>\n",
              "    </tr>\n",
              "    <tr>\n",
              "      <th>1</th>\n",
              "      <td>RidgeRegression</td>\n",
              "      <td>99.99</td>\n",
              "    </tr>\n",
              "    <tr>\n",
              "      <th>2</th>\n",
              "      <td>LasoRegression</td>\n",
              "      <td>99.99</td>\n",
              "    </tr>\n",
              "    <tr>\n",
              "      <th>3</th>\n",
              "      <td>ElasticNet</td>\n",
              "      <td>93.08</td>\n",
              "    </tr>\n",
              "    <tr>\n",
              "      <th>4</th>\n",
              "      <td>RandomForestRegression</td>\n",
              "      <td>99.58</td>\n",
              "    </tr>\n",
              "    <tr>\n",
              "      <th>5</th>\n",
              "      <td>DecisionTreeRegression</td>\n",
              "      <td>100.00</td>\n",
              "    </tr>\n",
              "  </tbody>\n",
              "</table>\n",
              "</div>\n",
              "      <button class=\"colab-df-convert\" onclick=\"convertToInteractive('df-25f63032-7f8c-4770-8ba3-d4d8140cea36')\"\n",
              "              title=\"Convert this dataframe to an interactive table.\"\n",
              "              style=\"display:none;\">\n",
              "        \n",
              "  <svg xmlns=\"http://www.w3.org/2000/svg\" height=\"24px\"viewBox=\"0 0 24 24\"\n",
              "       width=\"24px\">\n",
              "    <path d=\"M0 0h24v24H0V0z\" fill=\"none\"/>\n",
              "    <path d=\"M18.56 5.44l.94 2.06.94-2.06 2.06-.94-2.06-.94-.94-2.06-.94 2.06-2.06.94zm-11 1L8.5 8.5l.94-2.06 2.06-.94-2.06-.94L8.5 2.5l-.94 2.06-2.06.94zm10 10l.94 2.06.94-2.06 2.06-.94-2.06-.94-.94-2.06-.94 2.06-2.06.94z\"/><path d=\"M17.41 7.96l-1.37-1.37c-.4-.4-.92-.59-1.43-.59-.52 0-1.04.2-1.43.59L10.3 9.45l-7.72 7.72c-.78.78-.78 2.05 0 2.83L4 21.41c.39.39.9.59 1.41.59.51 0 1.02-.2 1.41-.59l7.78-7.78 2.81-2.81c.8-.78.8-2.07 0-2.86zM5.41 20L4 18.59l7.72-7.72 1.47 1.35L5.41 20z\"/>\n",
              "  </svg>\n",
              "      </button>\n",
              "      \n",
              "  <style>\n",
              "    .colab-df-container {\n",
              "      display:flex;\n",
              "      flex-wrap:wrap;\n",
              "      gap: 12px;\n",
              "    }\n",
              "\n",
              "    .colab-df-convert {\n",
              "      background-color: #E8F0FE;\n",
              "      border: none;\n",
              "      border-radius: 50%;\n",
              "      cursor: pointer;\n",
              "      display: none;\n",
              "      fill: #1967D2;\n",
              "      height: 32px;\n",
              "      padding: 0 0 0 0;\n",
              "      width: 32px;\n",
              "    }\n",
              "\n",
              "    .colab-df-convert:hover {\n",
              "      background-color: #E2EBFA;\n",
              "      box-shadow: 0px 1px 2px rgba(60, 64, 67, 0.3), 0px 1px 3px 1px rgba(60, 64, 67, 0.15);\n",
              "      fill: #174EA6;\n",
              "    }\n",
              "\n",
              "    [theme=dark] .colab-df-convert {\n",
              "      background-color: #3B4455;\n",
              "      fill: #D2E3FC;\n",
              "    }\n",
              "\n",
              "    [theme=dark] .colab-df-convert:hover {\n",
              "      background-color: #434B5C;\n",
              "      box-shadow: 0px 1px 3px 1px rgba(0, 0, 0, 0.15);\n",
              "      filter: drop-shadow(0px 1px 2px rgba(0, 0, 0, 0.3));\n",
              "      fill: #FFFFFF;\n",
              "    }\n",
              "  </style>\n",
              "\n",
              "      <script>\n",
              "        const buttonEl =\n",
              "          document.querySelector('#df-25f63032-7f8c-4770-8ba3-d4d8140cea36 button.colab-df-convert');\n",
              "        buttonEl.style.display =\n",
              "          google.colab.kernel.accessAllowed ? 'block' : 'none';\n",
              "\n",
              "        async function convertToInteractive(key) {\n",
              "          const element = document.querySelector('#df-25f63032-7f8c-4770-8ba3-d4d8140cea36');\n",
              "          const dataTable =\n",
              "            await google.colab.kernel.invokeFunction('convertToInteractive',\n",
              "                                                     [key], {});\n",
              "          if (!dataTable) return;\n",
              "\n",
              "          const docLinkHtml = 'Like what you see? Visit the ' +\n",
              "            '<a target=\"_blank\" href=https://colab.research.google.com/notebooks/data_table.ipynb>data table notebook</a>'\n",
              "            + ' to learn more about interactive tables.';\n",
              "          element.innerHTML = '';\n",
              "          dataTable['output_type'] = 'display_data';\n",
              "          await google.colab.output.renderOutput(dataTable, element);\n",
              "          const docLink = document.createElement('div');\n",
              "          docLink.innerHTML = docLinkHtml;\n",
              "          element.appendChild(docLink);\n",
              "        }\n",
              "      </script>\n",
              "    </div>\n",
              "  </div>\n",
              "  "
            ]
          },
          "metadata": {},
          "execution_count": 65
        }
      ]
    }
  ],
  "metadata": {
    "colab": {
      "name": "Election(Saheed Iyanda) .ipynb",
      "provenance": [],
      "collapsed_sections": [],
      "mount_file_id": "16M3aVpGMHGlot6PkkW3bJiKyqJPcAEzX",
      "authorship_tag": "ABX9TyPmSAVLnAYlj140i5SZAyBm",
      "include_colab_link": true
    },
    "kernelspec": {
      "display_name": "Python 3",
      "name": "python3"
    },
    "language_info": {
      "name": "python"
    }
  },
  "nbformat": 4,
  "nbformat_minor": 0
}